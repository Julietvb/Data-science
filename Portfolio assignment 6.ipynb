{
 "cells": [
  {
   "cell_type": "code",
   "execution_count": 2,
   "id": "fd8d9733",
   "metadata": {},
   "outputs": [],
   "source": [
    "import pandas as pd"
   ]
  },
  {
   "cell_type": "code",
   "execution_count": 112,
   "id": "60752436",
   "metadata": {},
   "outputs": [],
   "source": [
    "songs = pd.read_csv('songs.csv', index_col='Unnamed: 0', quotechar=\"`\") "
   ]
  },
  {
   "cell_type": "markdown",
   "id": "85b310ef",
   "metadata": {},
   "source": [
    "## Algemeen"
   ]
  },
  {
   "cell_type": "code",
   "execution_count": 113,
   "id": "f5351025",
   "metadata": {},
   "outputs": [
    {
     "data": {
      "text/html": [
       "<div>\n",
       "<style scoped>\n",
       "    .dataframe tbody tr th:only-of-type {\n",
       "        vertical-align: middle;\n",
       "    }\n",
       "\n",
       "    .dataframe tbody tr th {\n",
       "        vertical-align: top;\n",
       "    }\n",
       "\n",
       "    .dataframe thead th {\n",
       "        text-align: right;\n",
       "    }\n",
       "</style>\n",
       "<table border=\"1\" class=\"dataframe\">\n",
       "  <thead>\n",
       "    <tr style=\"text-align: right;\">\n",
       "      <th></th>\n",
       "      <th>Title</th>\n",
       "      <th>Artist</th>\n",
       "      <th>Genre</th>\n",
       "      <th>Year</th>\n",
       "      <th>BPM</th>\n",
       "      <th>Energy</th>\n",
       "      <th>Danceability</th>\n",
       "      <th>dB</th>\n",
       "      <th>Live</th>\n",
       "      <th>Valence</th>\n",
       "      <th>Duration</th>\n",
       "      <th>Acousticness</th>\n",
       "      <th>Speechiness</th>\n",
       "      <th>Popularity</th>\n",
       "    </tr>\n",
       "  </thead>\n",
       "  <tbody>\n",
       "    <tr>\n",
       "      <th>1</th>\n",
       "      <td>Hey, Soul Sister</td>\n",
       "      <td>Train</td>\n",
       "      <td>neo mellow</td>\n",
       "      <td>2010</td>\n",
       "      <td>97</td>\n",
       "      <td>89</td>\n",
       "      <td>67</td>\n",
       "      <td>-4</td>\n",
       "      <td>8</td>\n",
       "      <td>80</td>\n",
       "      <td>217</td>\n",
       "      <td>19</td>\n",
       "      <td>4</td>\n",
       "      <td>83</td>\n",
       "    </tr>\n",
       "    <tr>\n",
       "      <th>2</th>\n",
       "      <td>Love The Way You Lie</td>\n",
       "      <td>Eminem</td>\n",
       "      <td>detroit hip hop</td>\n",
       "      <td>2010</td>\n",
       "      <td>87</td>\n",
       "      <td>93</td>\n",
       "      <td>75</td>\n",
       "      <td>-5</td>\n",
       "      <td>52</td>\n",
       "      <td>64</td>\n",
       "      <td>263</td>\n",
       "      <td>24</td>\n",
       "      <td>23</td>\n",
       "      <td>82</td>\n",
       "    </tr>\n",
       "    <tr>\n",
       "      <th>3</th>\n",
       "      <td>TiK ToK</td>\n",
       "      <td>Kesha</td>\n",
       "      <td>dance pop</td>\n",
       "      <td>2010</td>\n",
       "      <td>120</td>\n",
       "      <td>84</td>\n",
       "      <td>76</td>\n",
       "      <td>-3</td>\n",
       "      <td>29</td>\n",
       "      <td>71</td>\n",
       "      <td>200</td>\n",
       "      <td>10</td>\n",
       "      <td>14</td>\n",
       "      <td>80</td>\n",
       "    </tr>\n",
       "    <tr>\n",
       "      <th>4</th>\n",
       "      <td>Bad Romance</td>\n",
       "      <td>Lady Gaga</td>\n",
       "      <td>dance pop</td>\n",
       "      <td>2010</td>\n",
       "      <td>119</td>\n",
       "      <td>92</td>\n",
       "      <td>70</td>\n",
       "      <td>-4</td>\n",
       "      <td>8</td>\n",
       "      <td>71</td>\n",
       "      <td>295</td>\n",
       "      <td>0</td>\n",
       "      <td>4</td>\n",
       "      <td>79</td>\n",
       "    </tr>\n",
       "    <tr>\n",
       "      <th>5</th>\n",
       "      <td>Just the Way You Are</td>\n",
       "      <td>Bruno Mars</td>\n",
       "      <td>pop</td>\n",
       "      <td>2010</td>\n",
       "      <td>109</td>\n",
       "      <td>84</td>\n",
       "      <td>64</td>\n",
       "      <td>-5</td>\n",
       "      <td>9</td>\n",
       "      <td>43</td>\n",
       "      <td>221</td>\n",
       "      <td>2</td>\n",
       "      <td>4</td>\n",
       "      <td>78</td>\n",
       "    </tr>\n",
       "    <tr>\n",
       "      <th>...</th>\n",
       "      <td>...</td>\n",
       "      <td>...</td>\n",
       "      <td>...</td>\n",
       "      <td>...</td>\n",
       "      <td>...</td>\n",
       "      <td>...</td>\n",
       "      <td>...</td>\n",
       "      <td>...</td>\n",
       "      <td>...</td>\n",
       "      <td>...</td>\n",
       "      <td>...</td>\n",
       "      <td>...</td>\n",
       "      <td>...</td>\n",
       "      <td>...</td>\n",
       "    </tr>\n",
       "    <tr>\n",
       "      <th>599</th>\n",
       "      <td>Find U Again (feat. Camila Cabello)</td>\n",
       "      <td>Mark Ronson</td>\n",
       "      <td>dance pop</td>\n",
       "      <td>2019</td>\n",
       "      <td>104</td>\n",
       "      <td>66</td>\n",
       "      <td>61</td>\n",
       "      <td>-7</td>\n",
       "      <td>20</td>\n",
       "      <td>16</td>\n",
       "      <td>176</td>\n",
       "      <td>1</td>\n",
       "      <td>3</td>\n",
       "      <td>75</td>\n",
       "    </tr>\n",
       "    <tr>\n",
       "      <th>600</th>\n",
       "      <td>Cross Me (feat. Chance the Rapper &amp; PnB Rock)</td>\n",
       "      <td>Ed Sheeran</td>\n",
       "      <td>pop</td>\n",
       "      <td>2019</td>\n",
       "      <td>95</td>\n",
       "      <td>79</td>\n",
       "      <td>75</td>\n",
       "      <td>-6</td>\n",
       "      <td>7</td>\n",
       "      <td>61</td>\n",
       "      <td>206</td>\n",
       "      <td>21</td>\n",
       "      <td>12</td>\n",
       "      <td>75</td>\n",
       "    </tr>\n",
       "    <tr>\n",
       "      <th>601</th>\n",
       "      <td>No Brainer (feat. Justin Bieber, Chance the Ra...</td>\n",
       "      <td>DJ Khaled</td>\n",
       "      <td>dance pop</td>\n",
       "      <td>2019</td>\n",
       "      <td>136</td>\n",
       "      <td>76</td>\n",
       "      <td>53</td>\n",
       "      <td>-5</td>\n",
       "      <td>9</td>\n",
       "      <td>65</td>\n",
       "      <td>260</td>\n",
       "      <td>7</td>\n",
       "      <td>34</td>\n",
       "      <td>70</td>\n",
       "    </tr>\n",
       "    <tr>\n",
       "      <th>602</th>\n",
       "      <td>Nothing Breaks Like a Heart (feat. Miley Cyrus)</td>\n",
       "      <td>Mark Ronson</td>\n",
       "      <td>dance pop</td>\n",
       "      <td>2019</td>\n",
       "      <td>114</td>\n",
       "      <td>79</td>\n",
       "      <td>60</td>\n",
       "      <td>-6</td>\n",
       "      <td>42</td>\n",
       "      <td>24</td>\n",
       "      <td>217</td>\n",
       "      <td>1</td>\n",
       "      <td>7</td>\n",
       "      <td>69</td>\n",
       "    </tr>\n",
       "    <tr>\n",
       "      <th>603</th>\n",
       "      <td>Kills You Slowly</td>\n",
       "      <td>The Chainsmokers</td>\n",
       "      <td>electropop</td>\n",
       "      <td>2019</td>\n",
       "      <td>150</td>\n",
       "      <td>44</td>\n",
       "      <td>70</td>\n",
       "      <td>-9</td>\n",
       "      <td>13</td>\n",
       "      <td>23</td>\n",
       "      <td>213</td>\n",
       "      <td>6</td>\n",
       "      <td>6</td>\n",
       "      <td>67</td>\n",
       "    </tr>\n",
       "  </tbody>\n",
       "</table>\n",
       "<p>603 rows × 14 columns</p>\n",
       "</div>"
      ],
      "text/plain": [
       "                                                 Title            Artist  \\\n",
       "1                                     Hey, Soul Sister             Train   \n",
       "2                                 Love The Way You Lie            Eminem   \n",
       "3                                              TiK ToK             Kesha   \n",
       "4                                          Bad Romance         Lady Gaga   \n",
       "5                                 Just the Way You Are        Bruno Mars   \n",
       "..                                                 ...               ...   \n",
       "599                Find U Again (feat. Camila Cabello)       Mark Ronson   \n",
       "600      Cross Me (feat. Chance the Rapper & PnB Rock)        Ed Sheeran   \n",
       "601  No Brainer (feat. Justin Bieber, Chance the Ra...         DJ Khaled   \n",
       "602    Nothing Breaks Like a Heart (feat. Miley Cyrus)       Mark Ronson   \n",
       "603                                   Kills You Slowly  The Chainsmokers   \n",
       "\n",
       "               Genre  Year  BPM  Energy  Danceability  dB  Live  Valence  \\\n",
       "1         neo mellow  2010   97      89            67  -4     8       80   \n",
       "2    detroit hip hop  2010   87      93            75  -5    52       64   \n",
       "3          dance pop  2010  120      84            76  -3    29       71   \n",
       "4          dance pop  2010  119      92            70  -4     8       71   \n",
       "5                pop  2010  109      84            64  -5     9       43   \n",
       "..               ...   ...  ...     ...           ...  ..   ...      ...   \n",
       "599        dance pop  2019  104      66            61  -7    20       16   \n",
       "600              pop  2019   95      79            75  -6     7       61   \n",
       "601        dance pop  2019  136      76            53  -5     9       65   \n",
       "602        dance pop  2019  114      79            60  -6    42       24   \n",
       "603       electropop  2019  150      44            70  -9    13       23   \n",
       "\n",
       "     Duration  Acousticness  Speechiness   Popularity  \n",
       "1         217            19             4          83  \n",
       "2         263            24            23          82  \n",
       "3         200            10            14          80  \n",
       "4         295             0             4          79  \n",
       "5         221             2             4          78  \n",
       "..        ...           ...           ...         ...  \n",
       "599       176             1             3          75  \n",
       "600       206            21            12          75  \n",
       "601       260             7            34          70  \n",
       "602       217             1             7          69  \n",
       "603       213             6             6          67  \n",
       "\n",
       "[603 rows x 14 columns]"
      ]
     },
     "execution_count": 113,
     "metadata": {},
     "output_type": "execute_result"
    }
   ],
   "source": [
    "songs"
   ]
  },
  {
   "cell_type": "markdown",
   "id": "ca27a913",
   "metadata": {},
   "source": [
    "### Title"
   ]
  },
  {
   "cell_type": "code",
   "execution_count": 114,
   "id": "57799501",
   "metadata": {
    "scrolled": true
   },
   "outputs": [
    {
     "data": {
      "text/plain": [
       "array(['Hey, Soul Sister', 'Love The Way You Lie', 'TiK ToK',\n",
       "       'Bad Romance', 'Just the Way You Are', 'Baby', 'Dynamite',\n",
       "       'Secrets', 'Empire State of Mind (Part II) Broken Down',\n",
       "       'Only Girl (In The World)',\n",
       "       \"Club Can't Handle Me (feat. David Guetta)\", 'Marry You',\n",
       "       'Cooler Than Me - Single Mix', 'Telephone', 'Like A G6',\n",
       "       'OMG (feat. will.i.am)', 'Eenie Meenie', 'The Time (Dirty Bit)',\n",
       "       'Alejandro', 'Your Love Is My Drug', 'Meet Me Halfway',\n",
       "       'Whataya Want from Me', 'Take It Off', 'Misery',\n",
       "       'All The Right Moves', 'Animal', 'Naturally', 'I Like It',\n",
       "       'Teenage Dream', 'California Gurls', '3',\n",
       "       'My First Kiss - feat. Ke$ha', 'Blah Blah Blah (feat. 3OH!3)',\n",
       "       'Imma Be', 'Try Sleeping with a Broken Heart',\n",
       "       'Sexy Bitch (feat. Akon)',\n",
       "       'Bound To You - Burlesque Original Motion Picture Soundtrack',\n",
       "       'If I Had You', 'Rock That Body', 'Dog Days Are Over',\n",
       "       \"Something's Got A Hold On Me - Burlesque Original Motion Picture Soundtrack\",\n",
       "       \"Doesn't Mean Anything\", 'Hard', 'Loca', 'You Lost Me',\n",
       "       'Not Myself Tonight', 'Written in the Stars (feat. Eric Turner)',\n",
       "       \"DJ Got Us Fallin' In Love (feat. Pitbull)\",\n",
       "       'Castle Walls (feat. Christina Aguilera)', 'Break Your Heart',\n",
       "       'Hello', 'A Thousand Years', 'Someone Like You',\n",
       "       'Give Me Everything', 'Rolling in the Deep',\n",
       "       'Run the World (Girls)',\n",
       "       'Moves Like Jagger - Studio Recording From The Voice Performance',\n",
       "       'Love On Top', 'Grenade', 'Tonight Tonight', 'What the Hell',\n",
       "       'Born This Way', 'Monster', 'Best Thing I Never Had',\n",
       "       'Party Rock Anthem', 'We R Who We R', 'Price Tag', 'Good Life',\n",
       "       'Just Can’t Get Enough', 'On The Floor', \"What's My Name?\",\n",
       "       'Yeah 3x', 'Without You (feat. Usher)', 'Sexy And I Know It',\n",
       "       'The Edge Of Glory', 'E.T.', 'Till the World Ends', 'I Wanna Go',\n",
       "       'Blow', 'You And I', 'Judas', \"Tonight (I'm Fuckin' You)\",\n",
       "       \"Please Don't Go\", 'We Found Love', 'Marry The Night', '1+1',\n",
       "       'Hold It Against Me', \"I'm Into You\", 'Papi',\n",
       "       'Cheers (Drink To That)', 'S&M Remix', 'Jar of Hearts',\n",
       "       'Turning Page', 'Super Bass', 'Raise Your Glass',\n",
       "       'Invading My Mind', 'Moment 4 Life - Album Version (Edited)',\n",
       "       'Last Friday Night (T.G.I.F.)', 'Firework',\n",
       "       'Muny - Album Version (Edited)', 'Titanium (feat. Sia)',\n",
       "       'Locked Out of Heaven', 'Paradise', 'Payphone',\n",
       "       'What Makes You Beautiful', 'I Knew You Were Trouble.',\n",
       "       'Call Me Maybe', 'Love You Like A Love Song',\n",
       "       'Set Fire to the Rain', 'We Are Never Ever Getting Back Together',\n",
       "       \"Stronger (What Doesn't Kill You)\", 'Try', 'Starships',\n",
       "       'One More Night', 'Good Time', 'Glad You Came',\n",
       "       'Beauty And A Beat', 'International Love', 'Some Nights',\n",
       "       'Boyfriend', 'Part Of Me', 'Domino', 'Where Have You Been',\n",
       "       'Wide Awake', 'The One That Got Away', 'Dance Again',\n",
       "       'Turn Up the Music', 'Lights - Single Version',\n",
       "       'We Are Young (feat. Janelle Monáe)', 'Diamonds',\n",
       "       \"Don't Stop the Party (feat. TJR)\", 'You Da One',\n",
       "       'Stereo Hearts (feat. Adam Levine)', 'It Will Rain',\n",
       "       'Blow Me (One Last Kiss)', 'Underneath the Tree', 'Wake Me Up',\n",
       "       'Story of My Life', 'Just Give Me a Reason (feat. Nate Ruess)',\n",
       "       'Hall of Fame', 'Roar', \"We Can't Stop\",\n",
       "       \"Don't You Worry Child - Radio Edit\",\n",
       "       'Get Lucky (feat. Pharrell Williams & Nile Rodgers) - Radio Edit',\n",
       "       'Wrecking Ball', 'Impossible', 'Blurred Lines', 'Heart Attack',\n",
       "       'Die Young', 'Clarity',\n",
       "       'Summertime Sadness (Lana Del Rey Vs. Cedric Gervais) - Cedric Gervais Remix',\n",
       "       'Under Control', 'Everybody Talks', \"Hold On, We're Going Home\",\n",
       "       'Best Song Ever', 'Kiss You',\n",
       "       'Sweet Nothing (feat. Florence Welch)', 'Lose Yourself to Dance',\n",
       "       'Work Bitch', 'Brave', \"Can't Hold Us (feat. Ray Dalton)\",\n",
       "       'Feel This Moment (feat. Christina Aguilera)',\n",
       "       'Beneath Your Beautiful',\n",
       "       'Let Me Love You (Until You Learn To Love Yourself)',\n",
       "       'Thrift Shop (feat. Wanz)',\n",
       "       'If I Lose Myself - Alesso vs OneRepublic', 'The Way',\n",
       "       'Suit & Tie', '#thatPOWER', 'I Love It (feat. Charli XCX)',\n",
       "       'Play Hard (feat. Ne-Yo & Akon) - New Edit', 'Daylight',\n",
       "       'Love Somebody', 'A Little Party Never Killed Nobody (All We Got)',\n",
       "       'Move', 'Walks Like Rihanna', 'Rock N Roll', 'Heartbreaker',\n",
       "       'Mirrors - Radio Edit', 'Next To Me', 'Made In The USA', 'Clown',\n",
       "       'Girl On Fire (feat. Nicki Minaj) - Inferno Version', 'TKO',\n",
       "       'Come & Get It', 'Live It Up', 'We Own The Night',\n",
       "       'Atlas - From “The Hunger Games: Catching Fire” Soundtrack',\n",
       "       'What About Love', 'Take Back the Night', 'Applause',\n",
       "       'Anything Could Happen', 'Finally Found You', 'Pom Poms',\n",
       "       '#Beautiful', \"How Ya Doin'? (feat. Missy Elliott)\",\n",
       "       'Crazy Kids (feat. will.i.am)', 'Ooh La La (from `The Smurfs 2`)',\n",
       "       'People Like Us', 'Overdose', 'Right Now - Dyro Radio Edit',\n",
       "       'Give It 2 U', 'Foolish Games',\n",
       "       'Outta Nowhere (feat. Danny Mercer)', 'Freak', 'All of Me',\n",
       "       'Stay With Me', 'Summer', 'Happy - From `Despicable Me 2`', 'Rude',\n",
       "       'Shake It Off', 'Dark Horse', 'Hey Brother', 'Maps', 'Treasure',\n",
       "       'Let Her Go', 'Problem', 'Pompeii', 'Team', 'Love Me Again',\n",
       "       'Latch', 'Adore You', 'Love Never Felt So Good', 'Burn',\n",
       "       'She Looks So Perfect', 'Fancy', 'Talk Dirty (feat. 2 Chainz)',\n",
       "       'Gorilla', 'human', 'Young Girls', 'Wiggle (feat. Snoop Dogg)',\n",
       "       'Love Runs Out', 'This Is How We Do', 'Mmm Yeah (feat. Pitbull)',\n",
       "       '#SELFIE', 'Partition', 'Birthday', 'G.U.Y.',\n",
       "       'Stay The Night - Featuring Hayley Williams Of Paramore',\n",
       "       'Let It Go - From `Frozen / Single Version', 'Wings',\n",
       "       \"Can't Remember to Forget You (feat. Rihanna)\",\n",
       "       'Shot Me Down (feat. Skylar Grey) - Radio Edit', 'Say Something',\n",
       "       'A Sky Full of Stars', 'Come Get It Bae', 'Chandelier', 'XO',\n",
       "       'We Are One (Ole Ola) [The Official 2014 FIFA World Cup Song]',\n",
       "       'Not About Angels', 'Drunk in Love', 'Anaconda',\n",
       "       'Boom Clap - From the Motion Picture Das Schicksal ist ein mieser Verräter',\n",
       "       'La La La (Brasil 2014) (feat. Carlinhos Brown)',\n",
       "       'Tee Shirt - Soundtrack Version', 'Words as Weapons',\n",
       "       \"You're Mine (Eternal)\", 'Sheezus', 'Cannonball',\n",
       "       \"It's On Again - Main Soundtrack\", 'I Luh Ya Papi',\n",
       "       'Not a Bad Thing', 'Thinking out Loud', \"I'm Not The Only One\",\n",
       "       'The Hills', 'Love Yourself', 'Uptown Funk', 'Take Me To Church',\n",
       "       'Sugar', 'Sorry', 'FourFiveSeconds',\n",
       "       'Love Me Like You Do - From `Fifty Shades Of Grey`',\n",
       "       'Earned It (Fifty Shades Of Grey) - From The `Fifty Shades Of Grey` Soundtrack',\n",
       "       'What Do You Mean?', 'Stitches', 'Want to Want Me', 'My House',\n",
       "       'Waves - Robin Schulz Radio Edit', 'Night Changes',\n",
       "       'How Deep Is Your Love', 'Never Forget You', 'Love Me Harder',\n",
       "       'Animals', 'Blame', 'Worth It', 'Break Free', \"Don't\",\n",
       "       'Elastic Heart', 'Rather Be (feat. Jess Glynne)',\n",
       "       'Dear Future Husband', '43776', 'The Heart Wants What It Wants',\n",
       "       'Hey Mama (feat. Nicki Minaj, Bebe Rexha & Afrojack)',\n",
       "       'Genie In a Bottle', 'Company', 'Sing', 'Jealous - Remix',\n",
       "       \"Really Don't Care\",\n",
       "       'Downtown (feat. Melle Mel, Grandmaster Caz, Kool Moe Dee & Eric Nally)',\n",
       "       'Only Love Can Hurt Like This', 'Heartbeat Song', 'Up', 'Trumpets',\n",
       "       \"Runnin' (Lose It All)\", 'Same Old Love', 'I Want You To Know',\n",
       "       'Lips Are Movin', \"I'll Show You\", 'Here', 'I Lived',\n",
       "       'Fireball (feat. John Ryan)', 'Easy Love', 'The Feeling',\n",
       "       'I Really Like You', 'BO$$', 'Focus', 'All About That Bass',\n",
       "       'On My Mind', 'Love Me Like You', 'Broken Arrows', 'Booty',\n",
       "       'What Do You Mean? - Acoustic', 'Mark My Words',\n",
       "       'Lay It All on Me', 'American Oxygen', 'Bang Bang',\n",
       "       'Reality - Radio Edit', 'Alive', 'Sugar (feat. Francesco Yates)',\n",
       "       'Been You', 'Prayer in C - Robin Schulz Radio Edit',\n",
       "       'See You Again (feat. Charlie Puth)', 'Heroes (we could be)',\n",
       "       'Feel The Light - From The `Home` Soundtrack', 'Perfect',\n",
       "       'Ghosttown', 'Bang My Head (feat. Sia & Fetty Wap)', 'Bloodstream',\n",
       "       'Living For Love', \"Baby Don't Lie\",\n",
       "       \"Don't Be so Hard on Yourself\", 'Steal My Girl',\n",
       "       'Celebrate (From the Original Motion Picture `Penguins of Madagascar`)',\n",
       "       'We Are Here', 'St Jude', 'Yesterday (feat. Bebe Rexha)',\n",
       "       'Time of Our Lives', 'Sparks', 'Mr. Put It Down',\n",
       "       'Legendary Lovers', 'Spark The Fire', 'Run Run Run',\n",
       "       'Let Me Be Your Lover', 'Dangerous', 'L.A.LOVE (la la)',\n",
       "       'Cake By The Ocean', \"Don't Let Me Down\", 'In the Name of Love',\n",
       "       'Into You', 'This Is What You Came For', 'Million Reasons',\n",
       "       'Needed Me', '7 Years',\n",
       "       \"CAN'T STOP THE FEELING! (Original Song from DreamWorks Animation's `TROLLS`)\",\n",
       "       'Work from Home (feat. Ty Dolla $ign)', 'Scars To Your Beautiful',\n",
       "       \"Like I'm Gonna Lose You (feat. John Legend)\", 'Work',\n",
       "       'Me, Myself & I', 'I Took A Pill In Ibiza - Seeb Remix',\n",
       "       'Dangerous Woman', 'Starving', 'Shout Out to My Ex',\n",
       "       'Electric Love', 'Confident', 'Too Good', 'Roses',\n",
       "       'Cold Water (feat. Justin Bieber & MØ)', 'Me Too',\n",
       "       'Light It Up (feat. Nyla & Fuse ODG) [Remix]', \"Ain't Your Mama\",\n",
       "       'Close', 'Toothbrush', 'All We Know', 'Final Song',\n",
       "       'Hands To Myself', 'All I Ask',\n",
       "       'Just Like Fire (From the Original Motion Picture `Alice Through The Looking Glass`)',\n",
       "       'NO', 'Kill Em With Kindness', 'Cool Girl', 'Perfect Illusion',\n",
       "       'PILLOWTALK', 'Out Of The Woods', 'Rise', 'Wherever I Go',\n",
       "       'Body Say', \"Don't Be A Fool\", 'LIKE I WOULD', 'Cheap Thrills',\n",
       "       'I Got You', 'Run Away With Me', 'Cruel (feat. ZAYN)',\n",
       "       'Send My Love (To Your New Lover)', 'WTF (Where They From)',\n",
       "       'Desire', 'When We Were Young', 'I Know What You Did Last Summer',\n",
       "       'Wish That You Were Here - From “Miss Peregrine’s Home for Peculiar Children” Original Motion Picture',\n",
       "       'Hurts', 'Change', 'Make Me... (feat. G-Eazy)',\n",
       "       'Keeping Your Head Up', 'True Colors', 'Make Me Like You',\n",
       "       'Champagne Problems', 'Blown', 'Start', 'Pep Rally', 'Higher',\n",
       "       'Invitation', 'One Call Away (feat. Tyga) - Remix',\n",
       "       'Beautiful Birds (feat. Birdy)', 'Little Lies',\n",
       "       'Do You Wanna Come Over?', 'BURNITUP!', 'Picky - Remix',\n",
       "       'Behind Your Back', 'Million Years Ago', 'Shape of You', 'Closer',\n",
       "       'Starboy', 'Treat You Better', \"That's What I Like\",\n",
       "       'Let Me Love You', 'I Feel It Coming', 'Mercy', 'Side To Side',\n",
       "       'Stay', \"It Ain't Me (with Selena Gomez)\", 'Malibu',\n",
       "       'Something Just Like This',\n",
       "       'Rockabye (feat. Sean Paul & Anne-Marie)',\n",
       "       'I Don’t Wanna Live Forever (Fifty Shades Darker)', 'My Way',\n",
       "       \"I'm the One (feat. Justin Bieber, Quavo, Chance the Rapper & Lil Wayne)\",\n",
       "       'Praying', 'Despacito - Remix', 'The Greatest', 'There for You',\n",
       "       'Paris', 'Crying in the Club', 'Mama',\n",
       "       'Slide (feat. Frank Ocean & Migos)', 'Swish Swish',\n",
       "       'Chained To The Rhythm', 'Cold (feat. Future)', 'Love',\n",
       "       'Reggaetón Lento (Remix)', 'First Time', 'The Cure',\n",
       "       \"How Far I'll Go - From `Moana`\", 'Bodak Yellow',\n",
       "       'Rich Love (with Seeb)', 'Tired', 'Came Here for Love',\n",
       "       '24K Magic', 'Strip That Down (feat. Quavo)', 'Cut To The Feeling',\n",
       "       'OK - Spotify Version', 'Bon appétit',\n",
       "       'Summer Bummer (feat. A$AP Rocky & Playboi Carti)',\n",
       "       'Get Low (with Liam Payne)', 'Kissing Strangers', 'Slow Hands',\n",
       "       'Younger Now', 'Body Moves',\n",
       "       'Reality (feat. Janieck Devy) - Radio Edit', 'Angel',\n",
       "       'Touch (feat. Kid Ink)', \"We Don't Talk Anymore - DROELOE Remix\",\n",
       "       'Love Incredible (feat. Camila Cabello)',\n",
       "       'No Vacancy (with Sebastián Yatra)', 'Rich Boy',\n",
       "       'Lust for Life (with The Weeknd)',\n",
       "       'Greenlight (feat. Flo Rida & LunchMoney Lewis)', 'Influence',\n",
       "       'Remember I Told You', \"Messin' Around\", 'Water Under the Bridge',\n",
       "       'Free Me', 'Kissing Strangers - Remix', 'A L I E N S',\n",
       "       'One Kiss (with Dua Lipa)', 'Havana (feat. Young Thug)',\n",
       "       'New Rules', \"There's Nothing Holdin' Me Back\",\n",
       "       'no tears left to cry', 'IDGAF', 'In My Blood', 'Wolves',\n",
       "       'Dusk Till Dawn - Radio Edit', 'Attention',\n",
       "       'Electricity (with Dua Lipa)', 'Love On The Brain',\n",
       "       'Let Me Go (with Alesso, Florida Georgia Line & watt)', 'Silence',\n",
       "       'Sorry Not Sorry', 'Shallow - Radio Edit', 'These Days',\n",
       "       'What Lovers Do (feat. SZA)', 'Finesse - Remix feat. Cardi B',\n",
       "       'Perfect Duet (Ed Sheeran & Beyoncé)', 'Bad At Love',\n",
       "       'Him & I (with Halsey)', 'Friends (with BloodPop®)',\n",
       "       'Wild Thoughts (feat. Rihanna & Bryson Tiller)', 'My My My!',\n",
       "       'Capital Letters', 'Sick Boy', 'Tequila',\n",
       "       'Look What You Made Me Do', 'Youth (feat. Khalid)', 'Bad Liar',\n",
       "       'Anywhere', 'Chun-Li', 'Sign of the Times', 'Familiar', 'Let Me',\n",
       "       'Supernova', 'Nervous', 'End Game', 'Mi Gente (feat. Beyoncé)',\n",
       "       'Lemon', 'For You (With Rita Ora)', 'Want To',\n",
       "       'What I Need (feat. Kehlani)', 'Wait', 'What About Us',\n",
       "       '2U (feat. Justin Bieber)', 'Walk On Water (feat. Beyoncé)',\n",
       "       'This Town', 'Girls (feat. Cardi B, Bebe Rexha & Charli XCX)',\n",
       "       'MOVE TO MIAMI', 'Miss You (with Major Lazer & Tory Lanez)',\n",
       "       'Filthy', 'Never Be the Same - Radio Edit', 'Ferrari', 'Supplies',\n",
       "       'Boom Boom', '...Ready For It? - BloodPop® Remix',\n",
       "       'Drip (feat. Migos)', 'Tell Me You Love Me - NOTD Remix',\n",
       "       'Memories', 'Lose You To Love Me', 'Someone You Loved', 'Señorita',\n",
       "       'How Do You Sleep?',\n",
       "       'South of the Border (feat. Camila Cabello & Cardi B)',\n",
       "       'Trampoline (with ZAYN)', 'Happier', 'Truth Hurts',\n",
       "       'Good as Hell (feat. Ariana Grande) - Remix', 'Higher Love',\n",
       "       'Only Human', 'Beautiful People (feat. Khalid)', 'Sucker',\n",
       "       \"Don't Call Me Up\", \"I Don't Care (with Justin Bieber)\",\n",
       "       'Talk (feat. Disclosure)', \"Giant (with Rag'n'Bone Man)\",\n",
       "       'Takeaway', 'All Around The World (La La La)',\n",
       "       'Girls Like You (feat. Cardi B)', 'Call You Mine',\n",
       "       'No Guidance (feat. Drake)', 'Antisocial (with Travis Scott)',\n",
       "       'Taki Taki (feat. Selena Gomez, Ozuna & Cardi B)',\n",
       "       'Con Calma - Remix', 'Find U Again (feat. Camila Cabello)',\n",
       "       'Cross Me (feat. Chance the Rapper & PnB Rock)',\n",
       "       'No Brainer (feat. Justin Bieber, Chance the Rapper & Quavo)',\n",
       "       'Nothing Breaks Like a Heart (feat. Miley Cyrus)',\n",
       "       'Kills You Slowly'], dtype=object)"
      ]
     },
     "execution_count": 114,
     "metadata": {},
     "output_type": "execute_result"
    }
   ],
   "source": [
    "songs.Title.unique()"
   ]
  },
  {
   "cell_type": "markdown",
   "id": "289b1028",
   "metadata": {},
   "source": [
    "Deze lijst geeft alle unieke titels weer die zich in de tabel bevinden. Omdat er zoveel unieke waardes zijn heeft het geen extra waarde om hier een grafiek van te genereren, deze zal onoverzichtelijk en onleesbaar worden."
   ]
  },
  {
   "cell_type": "markdown",
   "id": "9703f9e9",
   "metadata": {},
   "source": [
    "### Artist"
   ]
  },
  {
   "cell_type": "code",
   "execution_count": 115,
   "id": "2627f930",
   "metadata": {},
   "outputs": [
    {
     "data": {
      "text/plain": [
       "array(['Train', 'Eminem', 'Kesha', 'Lady Gaga', 'Bruno Mars',\n",
       "       'Justin Bieber', 'Taio Cruz', 'OneRepublic', 'Alicia Keys',\n",
       "       'Rihanna', 'Flo Rida', 'Mike Posner', 'Far East Movement', 'Usher',\n",
       "       'Sean Kingston', 'The Black Eyed Peas', 'Adam Lambert', 'Maroon 5',\n",
       "       'Neon Trees', 'Selena Gomez & The Scene', 'Enrique Iglesias',\n",
       "       'Katy Perry', 'Britney Spears', '3OH!3', 'David Guetta',\n",
       "       'Christina Aguilera', 'Florence + The Machine', 'Shakira',\n",
       "       'Tinie Tempah', 'T.I.', 'Martin Solveig', 'Christina Perri',\n",
       "       'Adele', 'Pitbull', 'Beyoncé', 'Hot Chelle Rae', 'Avril Lavigne',\n",
       "       'Kanye West', 'LMFAO', 'Jessie J', 'Jennifer Lopez', 'Chris Brown',\n",
       "       'Sleeping At Last', 'Nicki Minaj', 'P!nk', 'Coldplay',\n",
       "       'One Direction', 'Taylor Swift', 'Carly Rae Jepsen',\n",
       "       'Kelly Clarkson', 'Owl City', 'The Wanted', 'fun.',\n",
       "       'Ellie Goulding', 'Gym Class Heroes', 'Avicii', 'The Script',\n",
       "       'Miley Cyrus', 'Swedish House Mafia', 'Daft Punk', 'James Arthur',\n",
       "       'Robin Thicke', 'Demi Lovato', 'Zedd', 'Lana Del Rey',\n",
       "       'Calvin Harris', 'Drake', 'Sara Bareilles',\n",
       "       'Macklemore & Ryan Lewis', 'Labrinth', 'Ne-Yo', 'Ariana Grande',\n",
       "       'Justin Timberlake', 'will.i.am', 'Icona Pop', 'Fergie',\n",
       "       'Little Mix', 'Emeli Sandé', 'Selena Gomez', 'Austin Mahone',\n",
       "       'Jonas Brothers', 'Mariah Carey', 'Ciara', 'Jewel',\n",
       "       'Kelly Rowland', 'John Legend', 'Sam Smith', 'Pharrell Williams',\n",
       "       'MAGIC!', 'Passenger', 'Bastille', 'Lorde', 'John Newman',\n",
       "       'Disclosure', 'Michael Jackson', '5 Seconds of Summer',\n",
       "       'Iggy Azalea', 'Jason Derulo', 'The Chainsmokers', 'Birdy',\n",
       "       'A Great Big World', 'Sia', 'Charli XCX', 'Lily Allen',\n",
       "       'Lea Michele', 'Ed Sheeran', 'The Weeknd', 'Mark Ronson', 'Hozier',\n",
       "       'Shawn Mendes', 'Mr. Probz', 'Zara Larsson', 'Fifth Harmony',\n",
       "       'Clean Bandit', 'Meghan Trainor', 'Nick Jonas', 'Paloma Faith',\n",
       "       'Olly Murs', 'Naughty Boy', 'Alessia Cara', 'Sigala', 'Rudimental',\n",
       "       'Lost Frequencies', 'Robin Schulz', 'Lilly Wood and The Prick',\n",
       "       'Wiz Khalifa', 'Alesso', 'Madonna', 'Gwen Stefani', 'Jess Glynne',\n",
       "       'Hilary Duff', 'Ricky Martin', 'Jennifer Hudson', 'DNCE',\n",
       "       'Martin Garrix', 'Lukas Graham', 'G-Eazy', 'Hailee Steinfeld',\n",
       "       'BØRNS', 'Major Lazer', 'MØ', 'Tove Lo', 'ZAYN', 'Bebe Rexha',\n",
       "       'Snakehips', 'Missy Elliott', 'Years & Years', 'Charlie Puth',\n",
       "       'Janet Jackson', 'Joey Montana', 'Nelly Furtado', 'DJ Snake',\n",
       "       'Kygo', 'DJ Khaled', 'Luis Fonsi', 'Camila Cabello', 'Jonas Blue',\n",
       "       'CNCO', 'Cardi B', 'Alan Walker', 'Liam Payne', 'Niall Horan',\n",
       "       'Cashmere Cat', 'Galantis', 'Dua Lipa', 'Silk City', 'Marshmello',\n",
       "       'Halsey', 'Troye Sivan', 'Dan + Shay', 'Rita Ora', 'Harry Styles',\n",
       "       'Ansel Elgort', 'J Balvin', 'N.E.R.D', 'Hayley Kiyoko', 'RedOne',\n",
       "       'Lewis Capaldi', 'SHAED', 'Lizzo', 'Mabel', 'Khalid', 'R3HAB',\n",
       "       'Daddy Yankee'], dtype=object)"
      ]
     },
     "execution_count": 115,
     "metadata": {},
     "output_type": "execute_result"
    }
   ],
   "source": [
    "songs.Artist.unique()"
   ]
  },
  {
   "cell_type": "code",
   "execution_count": 123,
   "id": "d3654972",
   "metadata": {},
   "outputs": [
    {
     "data": {
      "text/plain": [
       "Katy Perry          17\n",
       "Justin Bieber       16\n",
       "Rihanna             15\n",
       "Maroon 5            15\n",
       "Lady Gaga           14\n",
       "Bruno Mars          13\n",
       "Shawn Mendes        11\n",
       "Pitbull             11\n",
       "Ed Sheeran          11\n",
       "The Chainsmokers    11\n",
       "Name: Artist, dtype: int64"
      ]
     },
     "execution_count": 123,
     "metadata": {},
     "output_type": "execute_result"
    }
   ],
   "source": [
    "songs['Artist'].value_counts(dropna=False).head(10)"
   ]
  },
  {
   "cell_type": "code",
   "execution_count": 136,
   "id": "c697d3b1",
   "metadata": {},
   "outputs": [
    {
     "data": {
      "text/plain": [
       "<AxesSubplot:>"
      ]
     },
     "execution_count": 136,
     "metadata": {},
     "output_type": "execute_result"
    },
    {
     "data": {
      "image/png": "[encoded data removed]",
      "text/plain": [
       "<Figure size 640x480 with 1 Axes>"
      ]
     },
     "metadata": {},
     "output_type": "display_data"
    }
   ],
   "source": [
    "songs['Artist'].value_counts(dropna=False).head(10).plot(kind='bar')"
   ]
  },
  {
   "cell_type": "markdown",
   "id": "184096a1",
   "metadata": {},
   "source": [
    "Er staan vele artiesten in deze tabel, omdat er wel een aantal artiesten meerdere keren voorkomen kan er geteld worden hoevaak een artiestnaam in de tabel staat om te kijken welke 10 artiesten het meeste voorkomen. Deze informatie is vervolgens weergegeven in een staafdiagram om een overzichtelijk diagram te behouden."
   ]
  },
  {
   "cell_type": "markdown",
   "id": "b0eda228",
   "metadata": {},
   "source": [
    "### Genre"
   ]
  },
  {
   "cell_type": "code",
   "execution_count": 130,
   "id": "c0c3c2d2",
   "metadata": {},
   "outputs": [
    {
     "data": {
      "text/plain": [
       "array(['neo mellow', 'detroit hip hop', 'dance pop', 'pop',\n",
       "       'canadian pop', 'hip pop', 'barbadian pop', 'atl hip hop',\n",
       "       'australian pop', 'indie pop', 'art pop', 'colombian pop',\n",
       "       'big room', 'british soul', 'chicago rap', 'acoustic pop',\n",
       "       'permanent wave', 'boy band', 'baroque pop', 'celtic rock',\n",
       "       'electro', 'complextro', 'canadian hip hop', 'candy pop',\n",
       "       'alaska indie', 'folk-pop', 'metropopolis', 'house',\n",
       "       'australian hip hop', 'electropop', 'australian dance',\n",
       "       'hollywood', 'canadian contemporary r&b',\n",
       "       'irish singer-songwriter', 'tropical house', 'belgian edm',\n",
       "       'french indie pop', 'hip hop', 'danish pop', 'latin',\n",
       "       'canadian latin', 'electronic trap', 'edm', 'electro house',\n",
       "       'downtempo', 'brostep', 'contemporary country', 'moroccan pop',\n",
       "       'escape room', 'alternative r&b'], dtype=object)"
      ]
     },
     "execution_count": 130,
     "metadata": {},
     "output_type": "execute_result"
    }
   ],
   "source": [
    "songs['Genre'].unique()"
   ]
  },
  {
   "cell_type": "code",
   "execution_count": 193,
   "id": "3f1b30ad",
   "metadata": {},
   "outputs": [
    {
     "data": {
      "text/plain": [
       "<AxesSubplot:>"
      ]
     },
     "execution_count": 193,
     "metadata": {},
     "output_type": "execute_result"
    },
    {
     "data": {
      "image/png": "[encoded data removed]",
      "text/plain": [
       "<Figure size 640x480 with 1 Axes>"
      ]
     },
     "metadata": {},
     "output_type": "display_data"
    }
   ],
   "source": [
    "songs['Genre'].value_counts(dropna=False).plot(kind='bar')"
   ]
  },
  {
   "cell_type": "code",
   "execution_count": 140,
   "id": "c3d3d67e",
   "metadata": {},
   "outputs": [
    {
     "data": {
      "text/plain": [
       "<AxesSubplot:ylabel='Genre'>"
      ]
     },
     "execution_count": 140,
     "metadata": {},
     "output_type": "execute_result"
    },
    {
     "data": {
      "image/png": "[encoded data removed]",
      "text/plain": [
       "<Figure size 640x480 with 1 Axes>"
      ]
     },
     "metadata": {},
     "output_type": "display_data"
    }
   ],
   "source": [
    "songs['Genre'].value_counts(dropna=False).head(10).plot(kind='pie')"
   ]
  },
  {
   "cell_type": "markdown",
   "id": "bae90aa8",
   "metadata": {},
   "source": [
    "Er is in bovenstaand cirkeldiagram een selectie gemaakt van de top 10 meest voorkomende genres. Omdat er vele unieke genres zijn en het een onoverzichtelijk diagram zou worden is er een count gedaan op de genres en de top 10 weergegeven. "
   ]
  },
  {
   "cell_type": "markdown",
   "id": "c14f872f",
   "metadata": {},
   "source": [
    "### Year"
   ]
  },
  {
   "cell_type": "code",
   "execution_count": 141,
   "id": "40dea5f2",
   "metadata": {},
   "outputs": [
    {
     "data": {
      "text/plain": [
       "<AxesSubplot:>"
      ]
     },
     "execution_count": 141,
     "metadata": {},
     "output_type": "execute_result"
    },
    {
     "data": {
      "image/png": "[encoded data removed]",
      "text/plain": [
       "<Figure size 640x480 with 1 Axes>"
      ]
     },
     "metadata": {},
     "output_type": "display_data"
    }
   ],
   "source": [
    "songs['Year'].value_counts(dropna=False).plot(kind='bar')"
   ]
  },
  {
   "cell_type": "markdown",
   "id": "4e220434",
   "metadata": {},
   "source": [
    "De dataset bestaat uit nummers uit de jaren 2015-2019. Omdat dit maar een klein aantal jaren zijn is dit makkelijk weer te geven in een staafdiagram. Uit dit staafdiagram kan de conclusie getrokken worden dat de meeste liedjes uit het jaar 2015 komen."
   ]
  },
  {
   "cell_type": "markdown",
   "id": "caea82f2",
   "metadata": {},
   "source": [
    "### Numerieke waardes"
   ]
  },
  {
   "cell_type": "code",
   "execution_count": 147,
   "id": "72d94b70",
   "metadata": {},
   "outputs": [
    {
     "data": {
      "text/html": [
       "<div>\n",
       "<style scoped>\n",
       "    .dataframe tbody tr th:only-of-type {\n",
       "        vertical-align: middle;\n",
       "    }\n",
       "\n",
       "    .dataframe tbody tr th {\n",
       "        vertical-align: top;\n",
       "    }\n",
       "\n",
       "    .dataframe thead th {\n",
       "        text-align: right;\n",
       "    }\n",
       "</style>\n",
       "<table border=\"1\" class=\"dataframe\">\n",
       "  <thead>\n",
       "    <tr style=\"text-align: right;\">\n",
       "      <th></th>\n",
       "      <th>Year</th>\n",
       "      <th>BPM</th>\n",
       "      <th>Energy</th>\n",
       "      <th>Danceability</th>\n",
       "      <th>dB</th>\n",
       "      <th>Live</th>\n",
       "      <th>Valence</th>\n",
       "      <th>Duration</th>\n",
       "      <th>Acousticness</th>\n",
       "      <th>Speechiness</th>\n",
       "      <th>Popularity</th>\n",
       "    </tr>\n",
       "  </thead>\n",
       "  <tbody>\n",
       "    <tr>\n",
       "      <th>count</th>\n",
       "      <td>603.000000</td>\n",
       "      <td>603.000000</td>\n",
       "      <td>603.000000</td>\n",
       "      <td>603.000000</td>\n",
       "      <td>603.000000</td>\n",
       "      <td>603.000000</td>\n",
       "      <td>603.000000</td>\n",
       "      <td>603.000000</td>\n",
       "      <td>603.000000</td>\n",
       "      <td>603.000000</td>\n",
       "      <td>603.000000</td>\n",
       "    </tr>\n",
       "    <tr>\n",
       "      <th>mean</th>\n",
       "      <td>2014.592040</td>\n",
       "      <td>118.545605</td>\n",
       "      <td>70.504146</td>\n",
       "      <td>64.379768</td>\n",
       "      <td>-5.578773</td>\n",
       "      <td>17.774461</td>\n",
       "      <td>52.225539</td>\n",
       "      <td>224.674959</td>\n",
       "      <td>14.326700</td>\n",
       "      <td>8.358209</td>\n",
       "      <td>66.520730</td>\n",
       "    </tr>\n",
       "    <tr>\n",
       "      <th>std</th>\n",
       "      <td>2.607057</td>\n",
       "      <td>24.795358</td>\n",
       "      <td>16.310664</td>\n",
       "      <td>13.378718</td>\n",
       "      <td>2.798020</td>\n",
       "      <td>13.102543</td>\n",
       "      <td>22.513020</td>\n",
       "      <td>34.130059</td>\n",
       "      <td>20.766165</td>\n",
       "      <td>7.483162</td>\n",
       "      <td>14.517746</td>\n",
       "    </tr>\n",
       "    <tr>\n",
       "      <th>min</th>\n",
       "      <td>2010.000000</td>\n",
       "      <td>0.000000</td>\n",
       "      <td>0.000000</td>\n",
       "      <td>0.000000</td>\n",
       "      <td>-60.000000</td>\n",
       "      <td>0.000000</td>\n",
       "      <td>0.000000</td>\n",
       "      <td>134.000000</td>\n",
       "      <td>0.000000</td>\n",
       "      <td>0.000000</td>\n",
       "      <td>0.000000</td>\n",
       "    </tr>\n",
       "    <tr>\n",
       "      <th>25%</th>\n",
       "      <td>2013.000000</td>\n",
       "      <td>100.000000</td>\n",
       "      <td>61.000000</td>\n",
       "      <td>57.000000</td>\n",
       "      <td>-6.000000</td>\n",
       "      <td>9.000000</td>\n",
       "      <td>35.000000</td>\n",
       "      <td>202.000000</td>\n",
       "      <td>2.000000</td>\n",
       "      <td>4.000000</td>\n",
       "      <td>60.000000</td>\n",
       "    </tr>\n",
       "    <tr>\n",
       "      <th>50%</th>\n",
       "      <td>2015.000000</td>\n",
       "      <td>120.000000</td>\n",
       "      <td>74.000000</td>\n",
       "      <td>66.000000</td>\n",
       "      <td>-5.000000</td>\n",
       "      <td>12.000000</td>\n",
       "      <td>52.000000</td>\n",
       "      <td>221.000000</td>\n",
       "      <td>6.000000</td>\n",
       "      <td>5.000000</td>\n",
       "      <td>69.000000</td>\n",
       "    </tr>\n",
       "    <tr>\n",
       "      <th>75%</th>\n",
       "      <td>2017.000000</td>\n",
       "      <td>129.000000</td>\n",
       "      <td>82.000000</td>\n",
       "      <td>73.000000</td>\n",
       "      <td>-4.000000</td>\n",
       "      <td>24.000000</td>\n",
       "      <td>69.000000</td>\n",
       "      <td>239.500000</td>\n",
       "      <td>17.000000</td>\n",
       "      <td>9.000000</td>\n",
       "      <td>76.000000</td>\n",
       "    </tr>\n",
       "    <tr>\n",
       "      <th>max</th>\n",
       "      <td>2019.000000</td>\n",
       "      <td>206.000000</td>\n",
       "      <td>98.000000</td>\n",
       "      <td>97.000000</td>\n",
       "      <td>-2.000000</td>\n",
       "      <td>74.000000</td>\n",
       "      <td>98.000000</td>\n",
       "      <td>424.000000</td>\n",
       "      <td>99.000000</td>\n",
       "      <td>48.000000</td>\n",
       "      <td>99.000000</td>\n",
       "    </tr>\n",
       "  </tbody>\n",
       "</table>\n",
       "</div>"
      ],
      "text/plain": [
       "              Year         BPM      Energy  Danceability          dB  \\\n",
       "count   603.000000  603.000000  603.000000    603.000000  603.000000   \n",
       "mean   2014.592040  118.545605   70.504146     64.379768   -5.578773   \n",
       "std       2.607057   24.795358   16.310664     13.378718    2.798020   \n",
       "min    2010.000000    0.000000    0.000000      0.000000  -60.000000   \n",
       "25%    2013.000000  100.000000   61.000000     57.000000   -6.000000   \n",
       "50%    2015.000000  120.000000   74.000000     66.000000   -5.000000   \n",
       "75%    2017.000000  129.000000   82.000000     73.000000   -4.000000   \n",
       "max    2019.000000  206.000000   98.000000     97.000000   -2.000000   \n",
       "\n",
       "             Live     Valence    Duration  Acousticness  Speechiness   \\\n",
       "count  603.000000  603.000000  603.000000    603.000000    603.000000   \n",
       "mean    17.774461   52.225539  224.674959     14.326700      8.358209   \n",
       "std     13.102543   22.513020   34.130059     20.766165      7.483162   \n",
       "min      0.000000    0.000000  134.000000      0.000000      0.000000   \n",
       "25%      9.000000   35.000000  202.000000      2.000000      4.000000   \n",
       "50%     12.000000   52.000000  221.000000      6.000000      5.000000   \n",
       "75%     24.000000   69.000000  239.500000     17.000000      9.000000   \n",
       "max     74.000000   98.000000  424.000000     99.000000     48.000000   \n",
       "\n",
       "       Popularity  \n",
       "count  603.000000  \n",
       "mean    66.520730  \n",
       "std     14.517746  \n",
       "min      0.000000  \n",
       "25%     60.000000  \n",
       "50%     69.000000  \n",
       "75%     76.000000  \n",
       "max     99.000000  "
      ]
     },
     "execution_count": 147,
     "metadata": {},
     "output_type": "execute_result"
    }
   ],
   "source": [
    "songs.describe()"
   ]
  },
  {
   "cell_type": "markdown",
   "id": "db62e495",
   "metadata": {},
   "source": [
    "### dB"
   ]
  },
  {
   "cell_type": "code",
   "execution_count": 195,
   "id": "5fbe21ab",
   "metadata": {},
   "outputs": [
    {
     "data": {
      "text/plain": [
       "<AxesSubplot:>"
      ]
     },
     "execution_count": 195,
     "metadata": {},
     "output_type": "execute_result"
    },
    {
     "data": {
      "image/png": "[encoded data removed]",
      "text/plain": [
       "<Figure size 640x480 with 1 Axes>"
      ]
     },
     "metadata": {},
     "output_type": "display_data"
    }
   ],
   "source": [
    "songs['dB'].value_counts(dropna=False).plot(kind='bar')"
   ]
  },
  {
   "cell_type": "markdown",
   "id": "f4954224",
   "metadata": {},
   "source": [
    "Alle numerieke waardes zijn continue, behalve het aantal dB. Dit is ook de reden waarom deze waarde als enige overzichtelijk weergegeven kan worden. Zoals in het bovenstaande staafdiagram te zien is zijn er 140+ liedjes met een geluid van -5 dB. Dit is dan ook de meest voorkomende waarde."
   ]
  },
  {
   "cell_type": "markdown",
   "id": "0b101d61",
   "metadata": {},
   "source": [
    "### BPM"
   ]
  },
  {
   "cell_type": "code",
   "execution_count": 190,
   "id": "afe9057c",
   "metadata": {},
   "outputs": [
    {
     "data": {
      "text/plain": [
       "array([ 97,  87, 120, 119, 109,  65, 148,  93, 126, 128, 145, 130, 122,\n",
       "       125, 121,  99, 186, 103, 146, 133, 129, 135, 138,  92, 111, 164,\n",
       "       131, 150, 104, 182, 112,  43,  91,  80, 139, 105, 127,  94, 110,\n",
       "       100, 124, 175,  95, 152, 132,  63,  84,  75,  98, 144, 140,  77,\n",
       "       117, 108,  86, 116, 160, 134, 184,  90, 114,  85, 180, 170, 174,\n",
       "       155, 118, 185, 136,  82, 102, 107, 201,  96,  83, 192,  76, 149,\n",
       "        79, 113, 115, 206, 190, 158, 176, 123, 106,  78, 156,  89, 202,\n",
       "       142, 163, 101,   0, 159,  81,  73, 178, 181, 167, 172,  88, 168],\n",
       "      dtype=int64)"
      ]
     },
     "execution_count": 190,
     "metadata": {},
     "output_type": "execute_result"
    }
   ],
   "source": [
    "songs['BPM'].unique()"
   ]
  },
  {
   "cell_type": "markdown",
   "id": "a8337af4",
   "metadata": {},
   "source": [
    "Omdat er van de BPM kolom zoveel verschillende unieke waardes zijn, is het niet handig om hier een grafiek van te maken. Dit word namelijk niet overzichtelijk en geeft ons geen verdere informatie. Wat er wel gemaakt kan worden is een histogram en een boxplot."
   ]
  }
 ],
 "metadata": {
  "kernelspec": {
   "display_name": "Python 3 (ipykernel)",
   "language": "python",
   "name": "python3"
  },
  "language_info": {
   "codemirror_mode": {
    "name": "ipython",
    "version": 3
   },
   "file_extension": ".py",
   "mimetype": "text/x-python",
   "name": "python",
   "nbconvert_exporter": "python",
   "pygments_lexer": "ipython3",
   "version": "3.9.13"
  }
 },
 "nbformat": 4,
 "nbformat_minor": 5
}
