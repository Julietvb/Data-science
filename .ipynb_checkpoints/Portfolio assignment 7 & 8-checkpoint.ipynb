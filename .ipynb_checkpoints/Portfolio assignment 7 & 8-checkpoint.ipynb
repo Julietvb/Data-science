{
 "cells": [
  {
   "cell_type": "code",
   "execution_count": 2,
   "id": "7bc79c06",
   "metadata": {},
   "outputs": [],
   "source": [
    "import pandas as pd"
   ]
  },
  {
   "cell_type": "code",
   "execution_count": 3,
   "id": "f571a2c0",
   "metadata": {},
   "outputs": [],
   "source": [
    "songs = pd.read_csv('songs.csv', index_col='Unnamed: 0', quotechar=\"`\") "
   ]
  },
  {
   "cell_type": "code",
   "execution_count": 4,
   "id": "cfc90689",
   "metadata": {},
   "outputs": [
    {
     "data": {
      "text/html": [
       "<div>\n",
       "<style scoped>\n",
       "    .dataframe tbody tr th:only-of-type {\n",
       "        vertical-align: middle;\n",
       "    }\n",
       "\n",
       "    .dataframe tbody tr th {\n",
       "        vertical-align: top;\n",
       "    }\n",
       "\n",
       "    .dataframe thead th {\n",
       "        text-align: right;\n",
       "    }\n",
       "</style>\n",
       "<table border=\"1\" class=\"dataframe\">\n",
       "  <thead>\n",
       "    <tr style=\"text-align: right;\">\n",
       "      <th></th>\n",
       "      <th>Title</th>\n",
       "      <th>Artist</th>\n",
       "      <th>Genre</th>\n",
       "      <th>Year</th>\n",
       "      <th>BPM</th>\n",
       "      <th>Energy</th>\n",
       "      <th>Danceability</th>\n",
       "      <th>dB</th>\n",
       "      <th>Live</th>\n",
       "      <th>Valence</th>\n",
       "      <th>Duration</th>\n",
       "      <th>Acousticness</th>\n",
       "      <th>Speechiness</th>\n",
       "      <th>Popularity</th>\n",
       "    </tr>\n",
       "  </thead>\n",
       "  <tbody>\n",
       "    <tr>\n",
       "      <th>1</th>\n",
       "      <td>Hey, Soul Sister</td>\n",
       "      <td>Train</td>\n",
       "      <td>neo mellow</td>\n",
       "      <td>2010</td>\n",
       "      <td>97</td>\n",
       "      <td>89</td>\n",
       "      <td>67</td>\n",
       "      <td>-4</td>\n",
       "      <td>8</td>\n",
       "      <td>80</td>\n",
       "      <td>217</td>\n",
       "      <td>19</td>\n",
       "      <td>4</td>\n",
       "      <td>83</td>\n",
       "    </tr>\n",
       "    <tr>\n",
       "      <th>2</th>\n",
       "      <td>Love The Way You Lie</td>\n",
       "      <td>Eminem</td>\n",
       "      <td>detroit hip hop</td>\n",
       "      <td>2010</td>\n",
       "      <td>87</td>\n",
       "      <td>93</td>\n",
       "      <td>75</td>\n",
       "      <td>-5</td>\n",
       "      <td>52</td>\n",
       "      <td>64</td>\n",
       "      <td>263</td>\n",
       "      <td>24</td>\n",
       "      <td>23</td>\n",
       "      <td>82</td>\n",
       "    </tr>\n",
       "    <tr>\n",
       "      <th>3</th>\n",
       "      <td>TiK ToK</td>\n",
       "      <td>Kesha</td>\n",
       "      <td>dance pop</td>\n",
       "      <td>2010</td>\n",
       "      <td>120</td>\n",
       "      <td>84</td>\n",
       "      <td>76</td>\n",
       "      <td>-3</td>\n",
       "      <td>29</td>\n",
       "      <td>71</td>\n",
       "      <td>200</td>\n",
       "      <td>10</td>\n",
       "      <td>14</td>\n",
       "      <td>80</td>\n",
       "    </tr>\n",
       "    <tr>\n",
       "      <th>4</th>\n",
       "      <td>Bad Romance</td>\n",
       "      <td>Lady Gaga</td>\n",
       "      <td>dance pop</td>\n",
       "      <td>2010</td>\n",
       "      <td>119</td>\n",
       "      <td>92</td>\n",
       "      <td>70</td>\n",
       "      <td>-4</td>\n",
       "      <td>8</td>\n",
       "      <td>71</td>\n",
       "      <td>295</td>\n",
       "      <td>0</td>\n",
       "      <td>4</td>\n",
       "      <td>79</td>\n",
       "    </tr>\n",
       "    <tr>\n",
       "      <th>5</th>\n",
       "      <td>Just the Way You Are</td>\n",
       "      <td>Bruno Mars</td>\n",
       "      <td>pop</td>\n",
       "      <td>2010</td>\n",
       "      <td>109</td>\n",
       "      <td>84</td>\n",
       "      <td>64</td>\n",
       "      <td>-5</td>\n",
       "      <td>9</td>\n",
       "      <td>43</td>\n",
       "      <td>221</td>\n",
       "      <td>2</td>\n",
       "      <td>4</td>\n",
       "      <td>78</td>\n",
       "    </tr>\n",
       "    <tr>\n",
       "      <th>...</th>\n",
       "      <td>...</td>\n",
       "      <td>...</td>\n",
       "      <td>...</td>\n",
       "      <td>...</td>\n",
       "      <td>...</td>\n",
       "      <td>...</td>\n",
       "      <td>...</td>\n",
       "      <td>...</td>\n",
       "      <td>...</td>\n",
       "      <td>...</td>\n",
       "      <td>...</td>\n",
       "      <td>...</td>\n",
       "      <td>...</td>\n",
       "      <td>...</td>\n",
       "    </tr>\n",
       "    <tr>\n",
       "      <th>599</th>\n",
       "      <td>Find U Again (feat. Camila Cabello)</td>\n",
       "      <td>Mark Ronson</td>\n",
       "      <td>dance pop</td>\n",
       "      <td>2019</td>\n",
       "      <td>104</td>\n",
       "      <td>66</td>\n",
       "      <td>61</td>\n",
       "      <td>-7</td>\n",
       "      <td>20</td>\n",
       "      <td>16</td>\n",
       "      <td>176</td>\n",
       "      <td>1</td>\n",
       "      <td>3</td>\n",
       "      <td>75</td>\n",
       "    </tr>\n",
       "    <tr>\n",
       "      <th>600</th>\n",
       "      <td>Cross Me (feat. Chance the Rapper &amp; PnB Rock)</td>\n",
       "      <td>Ed Sheeran</td>\n",
       "      <td>pop</td>\n",
       "      <td>2019</td>\n",
       "      <td>95</td>\n",
       "      <td>79</td>\n",
       "      <td>75</td>\n",
       "      <td>-6</td>\n",
       "      <td>7</td>\n",
       "      <td>61</td>\n",
       "      <td>206</td>\n",
       "      <td>21</td>\n",
       "      <td>12</td>\n",
       "      <td>75</td>\n",
       "    </tr>\n",
       "    <tr>\n",
       "      <th>601</th>\n",
       "      <td>No Brainer (feat. Justin Bieber, Chance the Ra...</td>\n",
       "      <td>DJ Khaled</td>\n",
       "      <td>dance pop</td>\n",
       "      <td>2019</td>\n",
       "      <td>136</td>\n",
       "      <td>76</td>\n",
       "      <td>53</td>\n",
       "      <td>-5</td>\n",
       "      <td>9</td>\n",
       "      <td>65</td>\n",
       "      <td>260</td>\n",
       "      <td>7</td>\n",
       "      <td>34</td>\n",
       "      <td>70</td>\n",
       "    </tr>\n",
       "    <tr>\n",
       "      <th>602</th>\n",
       "      <td>Nothing Breaks Like a Heart (feat. Miley Cyrus)</td>\n",
       "      <td>Mark Ronson</td>\n",
       "      <td>dance pop</td>\n",
       "      <td>2019</td>\n",
       "      <td>114</td>\n",
       "      <td>79</td>\n",
       "      <td>60</td>\n",
       "      <td>-6</td>\n",
       "      <td>42</td>\n",
       "      <td>24</td>\n",
       "      <td>217</td>\n",
       "      <td>1</td>\n",
       "      <td>7</td>\n",
       "      <td>69</td>\n",
       "    </tr>\n",
       "    <tr>\n",
       "      <th>603</th>\n",
       "      <td>Kills You Slowly</td>\n",
       "      <td>The Chainsmokers</td>\n",
       "      <td>electropop</td>\n",
       "      <td>2019</td>\n",
       "      <td>150</td>\n",
       "      <td>44</td>\n",
       "      <td>70</td>\n",
       "      <td>-9</td>\n",
       "      <td>13</td>\n",
       "      <td>23</td>\n",
       "      <td>213</td>\n",
       "      <td>6</td>\n",
       "      <td>6</td>\n",
       "      <td>67</td>\n",
       "    </tr>\n",
       "  </tbody>\n",
       "</table>\n",
       "<p>603 rows × 14 columns</p>\n",
       "</div>"
      ],
      "text/plain": [
       "                                                 Title            Artist  \\\n",
       "1                                     Hey, Soul Sister             Train   \n",
       "2                                 Love The Way You Lie            Eminem   \n",
       "3                                              TiK ToK             Kesha   \n",
       "4                                          Bad Romance         Lady Gaga   \n",
       "5                                 Just the Way You Are        Bruno Mars   \n",
       "..                                                 ...               ...   \n",
       "599                Find U Again (feat. Camila Cabello)       Mark Ronson   \n",
       "600      Cross Me (feat. Chance the Rapper & PnB Rock)        Ed Sheeran   \n",
       "601  No Brainer (feat. Justin Bieber, Chance the Ra...         DJ Khaled   \n",
       "602    Nothing Breaks Like a Heart (feat. Miley Cyrus)       Mark Ronson   \n",
       "603                                   Kills You Slowly  The Chainsmokers   \n",
       "\n",
       "               Genre  Year  BPM  Energy  Danceability  dB  Live  Valence  \\\n",
       "1         neo mellow  2010   97      89            67  -4     8       80   \n",
       "2    detroit hip hop  2010   87      93            75  -5    52       64   \n",
       "3          dance pop  2010  120      84            76  -3    29       71   \n",
       "4          dance pop  2010  119      92            70  -4     8       71   \n",
       "5                pop  2010  109      84            64  -5     9       43   \n",
       "..               ...   ...  ...     ...           ...  ..   ...      ...   \n",
       "599        dance pop  2019  104      66            61  -7    20       16   \n",
       "600              pop  2019   95      79            75  -6     7       61   \n",
       "601        dance pop  2019  136      76            53  -5     9       65   \n",
       "602        dance pop  2019  114      79            60  -6    42       24   \n",
       "603       electropop  2019  150      44            70  -9    13       23   \n",
       "\n",
       "     Duration  Acousticness  Speechiness   Popularity  \n",
       "1         217            19             4          83  \n",
       "2         263            24            23          82  \n",
       "3         200            10            14          80  \n",
       "4         295             0             4          79  \n",
       "5         221             2             4          78  \n",
       "..        ...           ...           ...         ...  \n",
       "599       176             1             3          75  \n",
       "600       206            21            12          75  \n",
       "601       260             7            34          70  \n",
       "602       217             1             7          69  \n",
       "603       213             6             6          67  \n",
       "\n",
       "[603 rows x 14 columns]"
      ]
     },
     "execution_count": 4,
     "metadata": {},
     "output_type": "execute_result"
    }
   ],
   "source": [
    "songs"
   ]
  },
  {
   "cell_type": "markdown",
   "id": "b887f082",
   "metadata": {},
   "source": [
    "## Assignment 7"
   ]
  },
  {
   "cell_type": "markdown",
   "id": "676e7ab0",
   "metadata": {},
   "source": [
    "### BPM "
   ]
  },
  {
   "cell_type": "code",
   "execution_count": 53,
   "id": "d838d7f8",
   "metadata": {},
   "outputs": [
    {
     "data": {
      "text/plain": [
       "<AxesSubplot:ylabel='Frequency'>"
      ]
     },
     "execution_count": 53,
     "metadata": {},
     "output_type": "execute_result"
    },
    {
     "data": {
      "image/png": "[encoded data removed]",
      "text/plain": [
       "<Figure size 640x480 with 1 Axes>"
      ]
     },
     "metadata": {},
     "output_type": "display_data"
    }
   ],
   "source": [
    "songs['BPM'].plot(kind='hist', bins = 50)"
   ]
  },
  {
   "cell_type": "code",
   "execution_count": 32,
   "id": "327a11b0",
   "metadata": {},
   "outputs": [
    {
     "data": {
      "text/plain": [
       "count    603.000000\n",
       "mean     118.545605\n",
       "std       24.795358\n",
       "min        0.000000\n",
       "25%      100.000000\n",
       "50%      120.000000\n",
       "75%      129.000000\n",
       "max      206.000000\n",
       "Name: BPM, dtype: float64"
      ]
     },
     "execution_count": 32,
     "metadata": {},
     "output_type": "execute_result"
    }
   ],
   "source": [
    "songs['BPM'].describe()"
   ]
  },
  {
   "cell_type": "code",
   "execution_count": 6,
   "id": "b0755f10",
   "metadata": {},
   "outputs": [
    {
     "data": {
      "text/plain": [
       "<AxesSubplot:>"
      ]
     },
     "execution_count": 6,
     "metadata": {},
     "output_type": "execute_result"
    },
    {
     "data": {
      "image/png": "[encoded data removed]",
      "text/plain": [
       "<Figure size 640x480 with 1 Axes>"
      ]
     },
     "metadata": {},
     "output_type": "display_data"
    }
   ],
   "source": [
    "songs['BPM'].plot(kind='box')"
   ]
  },
  {
   "cell_type": "markdown",
   "id": "d6052026",
   "metadata": {},
   "source": [
    "### Duration "
   ]
  },
  {
   "cell_type": "code",
   "execution_count": 49,
   "id": "4fd42ff0",
   "metadata": {
    "scrolled": false
   },
   "outputs": [
    {
     "data": {
      "text/plain": [
       "<AxesSubplot:ylabel='Frequency'>"
      ]
     },
     "execution_count": 49,
     "metadata": {},
     "output_type": "execute_result"
    },
    {
     "data": {
      "image/png": "[encoded data removed]",
      "text/plain": [
       "<Figure size 640x480 with 1 Axes>"
      ]
     },
     "metadata": {},
     "output_type": "display_data"
    }
   ],
   "source": [
    "songs['Duration'].plot(kind='hist', bins = 30)"
   ]
  },
  {
   "cell_type": "markdown",
   "id": "d78518f2",
   "metadata": {},
   "source": [
    "Dit is een voorbeeld van een power normal distribution, het is een smalle grafiek die een snelle stijging en daling heeft."
   ]
  },
  {
   "cell_type": "code",
   "execution_count": 40,
   "id": "1571155e",
   "metadata": {},
   "outputs": [
    {
     "data": {
      "text/plain": [
       "count    603.000000\n",
       "mean     224.674959\n",
       "std       34.130059\n",
       "min      134.000000\n",
       "25%      202.000000\n",
       "50%      221.000000\n",
       "75%      239.500000\n",
       "max      424.000000\n",
       "Name: Duration, dtype: float64"
      ]
     },
     "execution_count": 40,
     "metadata": {},
     "output_type": "execute_result"
    }
   ],
   "source": [
    "songs['Duration'].describe()"
   ]
  },
  {
   "cell_type": "code",
   "execution_count": 8,
   "id": "f50845a5",
   "metadata": {},
   "outputs": [
    {
     "data": {
      "text/plain": [
       "<AxesSubplot:>"
      ]
     },
     "execution_count": 8,
     "metadata": {},
     "output_type": "execute_result"
    },
    {
     "data": {
      "image/png": "[encoded data removed]",
      "text/plain": [
       "<Figure size 640x480 with 1 Axes>"
      ]
     },
     "metadata": {},
     "output_type": "display_data"
    }
   ],
   "source": [
    "songs['Duration'].plot(kind='box')"
   ]
  },
  {
   "cell_type": "markdown",
   "id": "3ce7a697",
   "metadata": {},
   "source": [
    "In deze boxplot is te zien dat de mediaan rond de 225 ligt. De outliers liggen alleen aan de bovenkant en niet aan de onderkant. Dit geeft aan dat er veel liedjes zijn die erg lang duren maar er maar 1 liedje heel kort duurt."
   ]
  },
  {
   "cell_type": "markdown",
   "id": "9d0ed8ca",
   "metadata": {},
   "source": [
    "## Assignment 8"
   ]
  },
  {
   "cell_type": "markdown",
   "id": "d5ec1d42",
   "metadata": {},
   "source": [
    "Portfolio assignment 8\n",
    "15 min:\n",
    "\n",
    "Calculate the 90%, 95%, 99% and 99.99% confidence interval for at least 2 columns with numerical data in the dataset that you chose in portfolio assignment 4. Do you see the impact the confidence has on the interval?\n",
    "\n",
    "Now calculate the 95% confidence interval again but use only the first 10% of your rows. Compare this interval to the previous 95% confidence interval you calculated. Do you see the impact of having less data?"
   ]
  },
  {
   "cell_type": "code",
   "execution_count": 10,
   "id": "7c1feb54",
   "metadata": {},
   "outputs": [],
   "source": [
    "import scipy.stats as st"
   ]
  },
  {
   "cell_type": "markdown",
   "id": "f00b30f0",
   "metadata": {},
   "source": [
    "### BPM "
   ]
  },
  {
   "cell_type": "markdown",
   "id": "3d4d1e00",
   "metadata": {},
   "source": [
    "#### Confidence interval -  90%"
   ]
  },
  {
   "cell_type": "code",
   "execution_count": 11,
   "id": "290b6e18",
   "metadata": {},
   "outputs": [
    {
     "data": {
      "text/plain": [
       "(116.88216269436722, 120.20904791923144)"
      ]
     },
     "execution_count": 11,
     "metadata": {},
     "output_type": "execute_result"
    }
   ],
   "source": [
    "confidence = 0.90\n",
    "st.t.interval(confidence, len(songs['BPM'])-1, loc=songs['BPM'].mean(), scale=st.sem(songs['BPM']))"
   ]
  },
  {
   "cell_type": "markdown",
   "id": "f4f3234a",
   "metadata": {},
   "source": [
    "#### Confidence interval -  95%"
   ]
  },
  {
   "cell_type": "code",
   "execution_count": 12,
   "id": "3672df2f",
   "metadata": {},
   "outputs": [
    {
     "data": {
      "text/plain": [
       "(116.56255444915851, 120.52865616444015)"
      ]
     },
     "execution_count": 12,
     "metadata": {},
     "output_type": "execute_result"
    }
   ],
   "source": [
    "confidence = 0.95\n",
    "st.t.interval(confidence, len(songs['BPM'])-1, loc=songs['BPM'].mean(), scale=st.sem(songs['BPM']))"
   ]
  },
  {
   "cell_type": "markdown",
   "id": "dd330b55",
   "metadata": {},
   "source": [
    "#### Confidence interval -  99%"
   ]
  },
  {
   "cell_type": "code",
   "execution_count": 13,
   "id": "e6201b85",
   "metadata": {},
   "outputs": [
    {
     "data": {
      "text/plain": [
       "(115.93640313734753, 121.15480747625114)"
      ]
     },
     "execution_count": 13,
     "metadata": {},
     "output_type": "execute_result"
    }
   ],
   "source": [
    "confidence = 0.99\n",
    "st.t.interval(confidence, len(songs['BPM'])-1, loc=songs['BPM'].mean(), scale=st.sem(songs['BPM']))"
   ]
  },
  {
   "cell_type": "markdown",
   "id": "95d8f6d0",
   "metadata": {},
   "source": [
    "#### Confidence interval -  99.99%"
   ]
  },
  {
   "cell_type": "code",
   "execution_count": 23,
   "id": "90bc2820",
   "metadata": {
    "scrolled": true
   },
   "outputs": [
    {
     "data": {
      "text/plain": [
       "(114.59061560514553, 122.50059500845313)"
      ]
     },
     "execution_count": 23,
     "metadata": {},
     "output_type": "execute_result"
    }
   ],
   "source": [
    "confidence = 0.9999\n",
    "st.t.interval(confidence, len(songs['BPM'])-1, loc=songs['BPM'].mean(), scale=st.sem(songs['BPM']))"
   ]
  },
  {
   "cell_type": "markdown",
   "id": "cbe2e596",
   "metadata": {},
   "source": [
    "#### Confidence interval -  95% with 10% of data"
   ]
  },
  {
   "cell_type": "code",
   "execution_count": 58,
   "id": "91fc7abe",
   "metadata": {},
   "outputs": [
    {
     "data": {
      "text/plain": [
       "(111.4459001270506, 125.64531048654806)"
      ]
     },
     "execution_count": 58,
     "metadata": {},
     "output_type": "execute_result"
    }
   ],
   "source": [
    "confidence = 0.95\n",
    "tenPercent = songs['BPM'].sample(frac=0.1)\n",
    "st.t.interval(confidence, len(songs['BPM']), loc=songs['BPM'].mean(), scale=st.sem(tenPercent))"
   ]
  },
  {
   "cell_type": "markdown",
   "id": "aad2386d",
   "metadata": {},
   "source": [
    "### Duration "
   ]
  },
  {
   "cell_type": "markdown",
   "id": "c98ea996",
   "metadata": {},
   "source": [
    "#### Confidence interval -  90%"
   ]
  },
  {
   "cell_type": "code",
   "execution_count": 16,
   "id": "7001b4d8",
   "metadata": {},
   "outputs": [
    {
     "data": {
      "text/plain": [
       "(222.38528019260661, 226.96463688865373)"
      ]
     },
     "execution_count": 16,
     "metadata": {},
     "output_type": "execute_result"
    }
   ],
   "source": [
    "confidence = 0.90\n",
    "st.t.interval(confidence, len(songs['Duration'])-1, loc=songs['Duration'].mean(), scale=st.sem(songs['Duration']))"
   ]
  },
  {
   "cell_type": "markdown",
   "id": "76b342d8",
   "metadata": {},
   "source": [
    "#### Confidence interval -  95%"
   ]
  },
  {
   "cell_type": "code",
   "execution_count": 17,
   "id": "04d4837d",
   "metadata": {},
   "outputs": [
    {
     "data": {
      "text/plain": [
       "(221.94534912829764, 227.4045679529627)"
      ]
     },
     "execution_count": 17,
     "metadata": {},
     "output_type": "execute_result"
    }
   ],
   "source": [
    "confidence = 0.95\n",
    "st.t.interval(confidence, len(songs['Duration'])-1, loc=songs['Duration'].mean(), scale=st.sem(songs['Duration']))"
   ]
  },
  {
   "cell_type": "markdown",
   "id": "2c2ebb92",
   "metadata": {},
   "source": [
    "#### Confidence interval -  99%"
   ]
  },
  {
   "cell_type": "code",
   "execution_count": 18,
   "id": "0ff87cba",
   "metadata": {},
   "outputs": [
    {
     "data": {
      "text/plain": [
       "(221.0834708221119, 228.26644625914844)"
      ]
     },
     "execution_count": 18,
     "metadata": {},
     "output_type": "execute_result"
    }
   ],
   "source": [
    "confidence = 0.99\n",
    "st.t.interval(confidence, len(songs['Duration'])-1, loc=songs['Duration'].mean(), scale=st.sem(songs['Duration']))"
   ]
  },
  {
   "cell_type": "markdown",
   "id": "42d3c23a",
   "metadata": {},
   "source": [
    "#### Confidence interval -  99.99%"
   ]
  },
  {
   "cell_type": "code",
   "execution_count": 19,
   "id": "b9814261",
   "metadata": {},
   "outputs": [
    {
     "data": {
      "text/plain": [
       "(219.23103506599188, 230.11888201526847)"
      ]
     },
     "execution_count": 19,
     "metadata": {},
     "output_type": "execute_result"
    }
   ],
   "source": [
    "confidence = 0.9999\n",
    "st.t.interval(confidence, len(songs['Duration'])-1, loc=songs['Duration'].mean(), scale=st.sem(songs['Duration']))"
   ]
  },
  {
   "cell_type": "markdown",
   "id": "0e313b03",
   "metadata": {},
   "source": [
    "#### Confidence interval -  95% with 10% of data"
   ]
  },
  {
   "cell_type": "code",
   "execution_count": 62,
   "id": "4882ac18",
   "metadata": {},
   "outputs": [
    {
     "data": {
      "text/plain": [
       "(217.5601803176088, 231.78973676365155)"
      ]
     },
     "execution_count": 62,
     "metadata": {},
     "output_type": "execute_result"
    }
   ],
   "source": [
    "confidence = 0.95\n",
    "tenPercent = songs['Duration'].sample(frac=0.1)\n",
    "st.t.interval(confidence, len(songs['Duration']), loc=songs['Duration'].mean(), scale=st.sem(tenPercent))"
   ]
  },
  {
   "cell_type": "code",
   "execution_count": null,
   "id": "178b2b63",
   "metadata": {},
   "outputs": [],
   "source": []
  }
 ],
 "metadata": {
  "kernelspec": {
   "display_name": "Python 3 (ipykernel)",
   "language": "python",
   "name": "python3"
  },
  "language_info": {
   "codemirror_mode": {
    "name": "ipython",
    "version": 3
   },
   "file_extension": ".py",
   "mimetype": "text/x-python",
   "name": "python",
   "nbconvert_exporter": "python",
   "pygments_lexer": "ipython3",
   "version": "3.9.13"
  }
 },
 "nbformat": 4,
 "nbformat_minor": 5
}
