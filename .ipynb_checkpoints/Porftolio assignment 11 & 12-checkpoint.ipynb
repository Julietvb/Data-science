{
 "cells": [
  {
   "cell_type": "code",
   "execution_count": 3,
   "metadata": {},
   "outputs": [],
   "source": [
    "import pandas as pd\n",
    "import seaborn as sns\n",
    "import scipy.stats as st"
   ]
  },
  {
   "cell_type": "markdown",
   "metadata": {},
   "source": [
    "## Assignment 11"
   ]
  },
  {
   "cell_type": "code",
   "execution_count": 4,
   "metadata": {},
   "outputs": [
    {
     "data": {
      "text/html": [
       "<div>\n",
       "<style scoped>\n",
       "    .dataframe tbody tr th:only-of-type {\n",
       "        vertical-align: middle;\n",
       "    }\n",
       "\n",
       "    .dataframe tbody tr th {\n",
       "        vertical-align: top;\n",
       "    }\n",
       "\n",
       "    .dataframe thead th {\n",
       "        text-align: right;\n",
       "    }\n",
       "</style>\n",
       "<table border=\"1\" class=\"dataframe\">\n",
       "  <thead>\n",
       "    <tr style=\"text-align: right;\">\n",
       "      <th></th>\n",
       "      <th>species</th>\n",
       "      <th>island</th>\n",
       "      <th>bill_length_mm</th>\n",
       "      <th>bill_depth_mm</th>\n",
       "      <th>flipper_length_mm</th>\n",
       "      <th>body_mass_g</th>\n",
       "      <th>sex</th>\n",
       "    </tr>\n",
       "  </thead>\n",
       "  <tbody>\n",
       "    <tr>\n",
       "      <th>0</th>\n",
       "      <td>Adelie</td>\n",
       "      <td>Torgersen</td>\n",
       "      <td>39.1</td>\n",
       "      <td>18.7</td>\n",
       "      <td>181.0</td>\n",
       "      <td>3750.0</td>\n",
       "      <td>Male</td>\n",
       "    </tr>\n",
       "    <tr>\n",
       "      <th>1</th>\n",
       "      <td>Adelie</td>\n",
       "      <td>Torgersen</td>\n",
       "      <td>39.5</td>\n",
       "      <td>17.4</td>\n",
       "      <td>186.0</td>\n",
       "      <td>3800.0</td>\n",
       "      <td>Female</td>\n",
       "    </tr>\n",
       "    <tr>\n",
       "      <th>2</th>\n",
       "      <td>Adelie</td>\n",
       "      <td>Torgersen</td>\n",
       "      <td>40.3</td>\n",
       "      <td>18.0</td>\n",
       "      <td>195.0</td>\n",
       "      <td>3250.0</td>\n",
       "      <td>Female</td>\n",
       "    </tr>\n",
       "    <tr>\n",
       "      <th>3</th>\n",
       "      <td>Adelie</td>\n",
       "      <td>Torgersen</td>\n",
       "      <td>NaN</td>\n",
       "      <td>NaN</td>\n",
       "      <td>NaN</td>\n",
       "      <td>NaN</td>\n",
       "      <td>NaN</td>\n",
       "    </tr>\n",
       "    <tr>\n",
       "      <th>4</th>\n",
       "      <td>Adelie</td>\n",
       "      <td>Torgersen</td>\n",
       "      <td>36.7</td>\n",
       "      <td>19.3</td>\n",
       "      <td>193.0</td>\n",
       "      <td>3450.0</td>\n",
       "      <td>Female</td>\n",
       "    </tr>\n",
       "  </tbody>\n",
       "</table>\n",
       "</div>"
      ],
      "text/plain": [
       "  species     island  bill_length_mm  bill_depth_mm  flipper_length_mm  \\\n",
       "0  Adelie  Torgersen            39.1           18.7              181.0   \n",
       "1  Adelie  Torgersen            39.5           17.4              186.0   \n",
       "2  Adelie  Torgersen            40.3           18.0              195.0   \n",
       "3  Adelie  Torgersen             NaN            NaN                NaN   \n",
       "4  Adelie  Torgersen            36.7           19.3              193.0   \n",
       "\n",
       "   body_mass_g     sex  \n",
       "0       3750.0    Male  \n",
       "1       3800.0  Female  \n",
       "2       3250.0  Female  \n",
       "3          NaN     NaN  \n",
       "4       3450.0  Female  "
      ]
     },
     "execution_count": 4,
     "metadata": {},
     "output_type": "execute_result"
    }
   ],
   "source": [
    "penguins = sns.load_dataset(\"penguins\")\n",
    "penguins.head()"
   ]
  },
  {
   "cell_type": "markdown",
   "metadata": {},
   "source": [
    "### Body mass"
   ]
  },
  {
   "cell_type": "code",
   "execution_count": 41,
   "metadata": {},
   "outputs": [
    {
     "data": {
      "text/plain": [
       "species\n",
       "Adelie       3700.662252\n",
       "Chinstrap    3733.088235\n",
       "Gentoo       5076.016260\n",
       "Name: body_mass_g, dtype: float64"
      ]
     },
     "execution_count": 41,
     "metadata": {},
     "output_type": "execute_result"
    }
   ],
   "source": [
    "penguins.body_mass_g.groupby(penguins.species).mean()"
   ]
  },
  {
   "cell_type": "code",
   "execution_count": 24,
   "metadata": {},
   "outputs": [
    {
     "data": {
      "text/plain": [
       "<AxesSubplot: xlabel='species', ylabel='body_mass_g'>"
      ]
     },
     "execution_count": 24,
     "metadata": {},
     "output_type": "execute_result"
    },
    {
     "data": {
      "image/png": "[encoded data removed]",
      "text/plain": [
       "<Figure size 640x480 with 1 Axes>"
      ]
     },
     "metadata": {},
     "output_type": "display_data"
    }
   ],
   "source": [
    "sns.barplot(y=\"body_mass_g\", x=\"species\", data=penguins)"
   ]
  },
  {
   "cell_type": "markdown",
   "metadata": {},
   "source": [
    "Op basis van de mediaan en de confidence interval is er te zien dat er subtiel verband is tussen het gewicht van de penguin en de soort. De Adelie en Chinstrap hebben een mediaan die dicht bij elkaar liggen, dit betekent dat betreft deze soorten er geen significant verband is tussen het gewicht en deze soorten. Echter heeft de gentoo soort wel een verband met het gewicht van een penguin. De Gentoo penguin is namelijk gemiddeld een stuk zwaarder dan de andere twee soorten."
   ]
  },
  {
   "cell_type": "markdown",
   "metadata": {},
   "source": [
    "### Bill length"
   ]
  },
  {
   "cell_type": "code",
   "execution_count": 42,
   "metadata": {},
   "outputs": [
    {
     "data": {
      "text/plain": [
       "species\n",
       "Adelie       38.791391\n",
       "Chinstrap    48.833824\n",
       "Gentoo       47.504878\n",
       "Name: bill_length_mm, dtype: float64"
      ]
     },
     "execution_count": 42,
     "metadata": {},
     "output_type": "execute_result"
    }
   ],
   "source": [
    "penguins.bill_length_mm.groupby(penguins.species).mean()"
   ]
  },
  {
   "cell_type": "code",
   "execution_count": 28,
   "metadata": {},
   "outputs": [
    {
     "data": {
      "text/plain": [
       "<AxesSubplot: xlabel='species', ylabel='bill_length_mm'>"
      ]
     },
     "execution_count": 28,
     "metadata": {},
     "output_type": "execute_result"
    },
    {
     "data": {
      "image/png": "[encoded data removed]",
      "text/plain": [
       "<Figure size 640x480 with 1 Axes>"
      ]
     },
     "metadata": {},
     "output_type": "display_data"
    }
   ],
   "source": [
    "sns.barplot(y=\"bill_length_mm\", x=\"species\", data=penguins)"
   ]
  },
  {
   "cell_type": "markdown",
   "metadata": {},
   "source": [
    "Het is moeilijk te zien of de confidence interval van chinstrap en gentoo overlappen omdat ze dicht bij elkaar liggen. Om dit beter te bekijken wordt de confidence interval berekent en naar de uiterste waardes gekeken. "
   ]
  },
  {
   "cell_type": "code",
   "execution_count": 51,
   "metadata": {},
   "outputs": [
    {
     "data": {
      "text/plain": [
       "(48.02555140787451, 49.642095650949024)"
      ]
     },
     "execution_count": 51,
     "metadata": {},
     "output_type": "execute_result"
    }
   ],
   "source": [
    "confidence = 0.95\n",
    "species1 = penguins['species'] == 'Chinstrap'\n",
    "penguinsSpecies = penguins[species1]\n",
    "penguinsBillLength = penguinsSpecies.bill_length_mm.dropna()\n",
    "st.t.interval(confidence, len(penguinsBillLength)-1, loc=penguinsBillLength.mean(), scale=st.sem(penguinsBillLength))"
   ]
  },
  {
   "cell_type": "code",
   "execution_count": 52,
   "metadata": {},
   "outputs": [
    {
     "data": {
      "text/plain": [
       "(46.954783427502186, 48.05497267005878)"
      ]
     },
     "execution_count": 52,
     "metadata": {},
     "output_type": "execute_result"
    }
   ],
   "source": [
    "confidence = 0.95\n",
    "species1 = penguins['species'] == 'Gentoo'\n",
    "penguinsSpecies = penguins[species1]\n",
    "penguinsBillLength = penguinsSpecies.bill_length_mm.dropna()\n",
    "st.t.interval(confidence, len(penguinsBillLength)-1, loc=penguinsBillLength.mean(), scale=st.sem(penguinsBillLength))"
   ]
  },
  {
   "cell_type": "markdown",
   "metadata": {},
   "source": [
    "De overlap van de confidence interval van de chinstrap en gentoo is minimaal met een confidence van 0.95. Echter wordt deze interval een stuk groter wanneer de confidence vergroot wordt. Dit betekent dat er geen verband is tussen de lengte van een snavel en een soort. De enige soort die invloed heeft op de snavellengte is Adelie, deze soort heeft namelijk een significant lager gemiddelde dan de andere soorten."
   ]
  },
  {
   "cell_type": "markdown",
   "metadata": {},
   "source": [
    "### Bill depth"
   ]
  },
  {
   "cell_type": "code",
   "execution_count": 43,
   "metadata": {},
   "outputs": [
    {
     "data": {
      "text/plain": [
       "species\n",
       "Adelie       18.346358\n",
       "Chinstrap    18.420588\n",
       "Gentoo       14.982114\n",
       "Name: bill_depth_mm, dtype: float64"
      ]
     },
     "execution_count": 43,
     "metadata": {},
     "output_type": "execute_result"
    }
   ],
   "source": [
    "penguins.bill_depth_mm.groupby(penguins.species).mean()"
   ]
  },
  {
   "cell_type": "code",
   "execution_count": 29,
   "metadata": {},
   "outputs": [
    {
     "data": {
      "text/plain": [
       "<AxesSubplot: xlabel='species', ylabel='bill_depth_mm'>"
      ]
     },
     "execution_count": 29,
     "metadata": {},
     "output_type": "execute_result"
    },
    {
     "data": {
      "image/png": "[encoded data removed]",
      "text/plain": [
       "<Figure size 640x480 with 1 Axes>"
      ]
     },
     "metadata": {},
     "output_type": "display_data"
    }
   ],
   "source": [
    "sns.barplot(y=\"bill_depth_mm\", x=\"species\", data=penguins)"
   ]
  },
  {
   "cell_type": "markdown",
   "metadata": {},
   "source": [
    "Er is geen verband tussen de diepte van de snavel en de soort van de penguin. Dit geldt voor de soorten Adelie en Chinstrap. Echter de gemiddelde snaveldiepte van de soort Gentoo is erg laag in vergelijking tot de andere soorten. Dit betekent dat er wel een verband is tussen de soort Gentoo en de snaveldiepte. Als een penguin van de soort Gentoo is heeft het een minder diepe snavel dan als het van een andere soort is."
   ]
  },
  {
   "cell_type": "markdown",
   "metadata": {},
   "source": [
    "### Flipper length"
   ]
  },
  {
   "cell_type": "code",
   "execution_count": 44,
   "metadata": {},
   "outputs": [
    {
     "data": {
      "text/plain": [
       "species\n",
       "Adelie       189.953642\n",
       "Chinstrap    195.823529\n",
       "Gentoo       217.186992\n",
       "Name: flipper_length_mm, dtype: float64"
      ]
     },
     "execution_count": 44,
     "metadata": {},
     "output_type": "execute_result"
    }
   ],
   "source": [
    "penguins.flipper_length_mm.groupby(penguins.species).mean()"
   ]
  },
  {
   "cell_type": "code",
   "execution_count": 32,
   "metadata": {},
   "outputs": [
    {
     "data": {
      "text/plain": [
       "<AxesSubplot: xlabel='species', ylabel='flipper_length_mm'>"
      ]
     },
     "execution_count": 32,
     "metadata": {},
     "output_type": "execute_result"
    },
    {
     "data": {
      "image/png": "[encoded data removed]",
      "text/plain": [
       "<Figure size 640x480 with 1 Axes>"
      ]
     },
     "metadata": {},
     "output_type": "display_data"
    }
   ],
   "source": [
    "sns.barplot(y=\"flipper_length_mm\", x=\"species\", data=penguins)"
   ]
  },
  {
   "cell_type": "markdown",
   "metadata": {},
   "source": [
    "Het is moeilijk te zien of de confidence interval van adelie en chinstrap overlapt omdat ze dicht bij elkaar liggen. Om dit beter te bekijken wordt de confidence interval berekent en naar de uiterste waardes gekeken. "
   ]
  },
  {
   "cell_type": "code",
   "execution_count": 36,
   "metadata": {},
   "outputs": [
    {
     "data": {
      "text/plain": [
       "(188.9021179338864, 191.00516683432554)"
      ]
     },
     "execution_count": 36,
     "metadata": {},
     "output_type": "execute_result"
    }
   ],
   "source": [
    "confidence = 0.95\n",
    "species1 = penguins['species'] == 'Adelie'\n",
    "penguinsSpecies = penguins[species1]\n",
    "penguinsFlipperLength = penguinsSpecies.flipper_length_mm.dropna()\n",
    "st.t.interval(confidence, len(penguinsFlipperLength)-1, loc=penguinsFlipperLength.mean(), scale=st.sem(penguinsFlipperLength))"
   ]
  },
  {
   "cell_type": "code",
   "execution_count": 35,
   "metadata": {},
   "outputs": [
    {
     "data": {
      "text/plain": [
       "(194.097243232267, 197.5498155912624)"
      ]
     },
     "execution_count": 35,
     "metadata": {},
     "output_type": "execute_result"
    }
   ],
   "source": [
    "confidence = 0.95\n",
    "species2 = penguins['species'] == 'Chinstrap'\n",
    "penguinsSpecies = penguins[species2]\n",
    "penguinsFlipperLength = penguinsSpecies.flipper_length_mm.dropna()\n",
    "st.t.interval(confidence, len(penguinsFlipperLength)-1, loc=penguinsFlipperLength.mean(), scale=st.sem(penguinsFlipperLength))"
   ]
  },
  {
   "cell_type": "markdown",
   "metadata": {},
   "source": [
    "Omdat het gemiddelde van de flipperlengtes en de confidence interval bij de verschillende soorten niet overlapt, is er een verband te trekken tussen de soort van de penguin en de flipperlengte van deze penguin. Dit betkent dat de soort van de penguin een significante invloed heeft op de flipperlengte."
   ]
  },
  {
   "cell_type": "markdown",
   "metadata": {},
   "source": [
    "## Assignment 12"
   ]
  },
  {
   "cell_type": "code",
   "execution_count": 4,
   "metadata": {},
   "outputs": [
    {
     "data": {
      "text/html": [
       "<div>\n",
       "<style scoped>\n",
       "    .dataframe tbody tr th:only-of-type {\n",
       "        vertical-align: middle;\n",
       "    }\n",
       "\n",
       "    .dataframe tbody tr th {\n",
       "        vertical-align: top;\n",
       "    }\n",
       "\n",
       "    .dataframe thead th {\n",
       "        text-align: right;\n",
       "    }\n",
       "</style>\n",
       "<table border=\"1\" class=\"dataframe\">\n",
       "  <thead>\n",
       "    <tr style=\"text-align: right;\">\n",
       "      <th></th>\n",
       "      <th>Title</th>\n",
       "      <th>Artist</th>\n",
       "      <th>Genre</th>\n",
       "      <th>Year</th>\n",
       "      <th>BPM</th>\n",
       "      <th>Energy</th>\n",
       "      <th>Danceability</th>\n",
       "      <th>dB</th>\n",
       "      <th>Live</th>\n",
       "      <th>Valence</th>\n",
       "      <th>Duration</th>\n",
       "      <th>Acousticness</th>\n",
       "      <th>Speechiness</th>\n",
       "      <th>Popularity</th>\n",
       "    </tr>\n",
       "  </thead>\n",
       "  <tbody>\n",
       "    <tr>\n",
       "      <th>1</th>\n",
       "      <td>Hey, Soul Sister</td>\n",
       "      <td>Train</td>\n",
       "      <td>neo mellow</td>\n",
       "      <td>2010</td>\n",
       "      <td>97</td>\n",
       "      <td>89</td>\n",
       "      <td>67</td>\n",
       "      <td>-4</td>\n",
       "      <td>8</td>\n",
       "      <td>80</td>\n",
       "      <td>217</td>\n",
       "      <td>19</td>\n",
       "      <td>4</td>\n",
       "      <td>83</td>\n",
       "    </tr>\n",
       "    <tr>\n",
       "      <th>2</th>\n",
       "      <td>Love The Way You Lie</td>\n",
       "      <td>Eminem</td>\n",
       "      <td>detroit hip hop</td>\n",
       "      <td>2010</td>\n",
       "      <td>87</td>\n",
       "      <td>93</td>\n",
       "      <td>75</td>\n",
       "      <td>-5</td>\n",
       "      <td>52</td>\n",
       "      <td>64</td>\n",
       "      <td>263</td>\n",
       "      <td>24</td>\n",
       "      <td>23</td>\n",
       "      <td>82</td>\n",
       "    </tr>\n",
       "    <tr>\n",
       "      <th>3</th>\n",
       "      <td>TiK ToK</td>\n",
       "      <td>Kesha</td>\n",
       "      <td>dance pop</td>\n",
       "      <td>2010</td>\n",
       "      <td>120</td>\n",
       "      <td>84</td>\n",
       "      <td>76</td>\n",
       "      <td>-3</td>\n",
       "      <td>29</td>\n",
       "      <td>71</td>\n",
       "      <td>200</td>\n",
       "      <td>10</td>\n",
       "      <td>14</td>\n",
       "      <td>80</td>\n",
       "    </tr>\n",
       "    <tr>\n",
       "      <th>4</th>\n",
       "      <td>Bad Romance</td>\n",
       "      <td>Lady Gaga</td>\n",
       "      <td>dance pop</td>\n",
       "      <td>2010</td>\n",
       "      <td>119</td>\n",
       "      <td>92</td>\n",
       "      <td>70</td>\n",
       "      <td>-4</td>\n",
       "      <td>8</td>\n",
       "      <td>71</td>\n",
       "      <td>295</td>\n",
       "      <td>0</td>\n",
       "      <td>4</td>\n",
       "      <td>79</td>\n",
       "    </tr>\n",
       "    <tr>\n",
       "      <th>5</th>\n",
       "      <td>Just the Way You Are</td>\n",
       "      <td>Bruno Mars</td>\n",
       "      <td>pop</td>\n",
       "      <td>2010</td>\n",
       "      <td>109</td>\n",
       "      <td>84</td>\n",
       "      <td>64</td>\n",
       "      <td>-5</td>\n",
       "      <td>9</td>\n",
       "      <td>43</td>\n",
       "      <td>221</td>\n",
       "      <td>2</td>\n",
       "      <td>4</td>\n",
       "      <td>78</td>\n",
       "    </tr>\n",
       "  </tbody>\n",
       "</table>\n",
       "</div>"
      ],
      "text/plain": [
       "                  Title      Artist            Genre  Year  BPM  Energy  \\\n",
       "1      Hey, Soul Sister       Train       neo mellow  2010   97      89   \n",
       "2  Love The Way You Lie      Eminem  detroit hip hop  2010   87      93   \n",
       "3               TiK ToK       Kesha        dance pop  2010  120      84   \n",
       "4           Bad Romance   Lady Gaga        dance pop  2010  119      92   \n",
       "5  Just the Way You Are  Bruno Mars              pop  2010  109      84   \n",
       "\n",
       "   Danceability  dB  Live  Valence  Duration  Acousticness  Speechiness   \\\n",
       "1            67  -4     8       80       217            19             4   \n",
       "2            75  -5    52       64       263            24            23   \n",
       "3            76  -3    29       71       200            10            14   \n",
       "4            70  -4     8       71       295             0             4   \n",
       "5            64  -5     9       43       221             2             4   \n",
       "\n",
       "   Popularity  \n",
       "1          83  \n",
       "2          82  \n",
       "3          80  \n",
       "4          79  \n",
       "5          78  "
      ]
     },
     "execution_count": 4,
     "metadata": {},
     "output_type": "execute_result"
    }
   ],
   "source": [
    "songs = pd.read_csv('songs.csv', index_col='Unnamed: 0', quotechar=\"`\") \n",
    "songs.head()"
   ]
  },
  {
   "cell_type": "markdown",
   "metadata": {},
   "source": [
    "### Numerieke waarde vs Year"
   ]
  },
  {
   "cell_type": "code",
   "execution_count": 131,
   "metadata": {},
   "outputs": [
    {
     "data": {
      "text/plain": [
       "Year\n",
       "2010    122.058824\n",
       "2011    119.075472\n",
       "2012    121.085714\n",
       "2013    121.676056\n",
       "2014    123.000000\n",
       "2015    119.768421\n",
       "2016    114.325000\n",
       "2017    116.800000\n",
       "2018    114.593750\n",
       "2019    112.451613\n",
       "Name: BPM, dtype: float64"
      ]
     },
     "execution_count": 131,
     "metadata": {},
     "output_type": "execute_result"
    }
   ],
   "source": [
    "songs.BPM.groupby(songs.Year).mean()"
   ]
  },
  {
   "cell_type": "code",
   "execution_count": 58,
   "metadata": {},
   "outputs": [
    {
     "data": {
      "text/plain": [
       "<AxesSubplot: xlabel='Year', ylabel='BPM'>"
      ]
     },
     "execution_count": 58,
     "metadata": {},
     "output_type": "execute_result"
    },
    {
     "data": {
      "image/png": "[encoded data removed]",
      "text/plain": [
       "<Figure size 640x480 with 1 Axes>"
      ]
     },
     "metadata": {},
     "output_type": "display_data"
    }
   ],
   "source": [
    "sns.barplot(y=\"BPM\", x=\"Year\", data=songs)"
   ]
  },
  {
   "cell_type": "markdown",
   "metadata": {},
   "source": [
    "Er is een grote overlap te zien tussen de confidence intervals van de BPM per jaar. Dit betekent dat er geen verband is tussen het jaar en het aantal BPM in een nummer. "
   ]
  },
  {
   "cell_type": "markdown",
   "metadata": {},
   "source": [
    "### Numerieke waarde vs Genre"
   ]
  },
  {
   "cell_type": "markdown",
   "metadata": {},
   "source": [
    "Om te analyseren of er een verband is tussen een numerieke waarde en een genre is er een selectie gemaakt van de top 5 genres. Dit is zodat er een algemene blik geworpen kan worden op de meest voorkomende genres en de gemiddeldes."
   ]
  },
  {
   "cell_type": "code",
   "execution_count": 65,
   "metadata": {},
   "outputs": [
    {
     "data": {
      "text/plain": [
       "dance pop                    327\n",
       "pop                           60\n",
       "canadian pop                  34\n",
       "barbadian pop                 15\n",
       "boy band                      15\n",
       "electropop                    13\n",
       "british soul                  11\n",
       "big room                      10\n",
       "canadian contemporary r&b      9\n",
       "neo mellow                     9\n",
       "Name: Genre, dtype: int64"
      ]
     },
     "execution_count": 65,
     "metadata": {},
     "output_type": "execute_result"
    }
   ],
   "source": [
    "songs['Genre'].value_counts(dropna=False).head(10)"
   ]
  },
  {
   "cell_type": "code",
   "execution_count": 128,
   "metadata": {},
   "outputs": [],
   "source": [
    "top5genres = songs[(songs.Genre == 'dance pop') | (songs.Genre == 'pop') | (songs['Genre'] == 'canadian pop') | (songs['Genre'] == 'barbadian pop') | (songs['Genre'] == 'boy band') ]\n",
    "# | (songs['Genre'] == 'electropop') | (songs['Genre'] == 'british soul') | (songs['Genre'] == 'big room') | (songs['Genre'] == 'canadian contemporary r&b') | (songs['Genre'] == 'neo mellow') "
   ]
  },
  {
   "cell_type": "code",
   "execution_count": 148,
   "metadata": {},
   "outputs": [
    {
     "data": {
      "text/plain": [
       "Genre\n",
       "acoustic pop       238.000\n",
       "alaska indie       250.000\n",
       "alternative r&b    198.000\n",
       "art pop            260.875\n",
       "atl hip hop        284.400\n",
       "Name: Duration, dtype: float64"
      ]
     },
     "execution_count": 148,
     "metadata": {},
     "output_type": "execute_result"
    }
   ],
   "source": [
    "songs.Duration.groupby(songs.Genre).mean().head()"
   ]
  },
  {
   "cell_type": "code",
   "execution_count": 129,
   "metadata": {},
   "outputs": [
    {
     "data": {
      "text/plain": [
       "<AxesSubplot: xlabel='Genre', ylabel='Duration'>"
      ]
     },
     "execution_count": 129,
     "metadata": {},
     "output_type": "execute_result"
    },
    {
     "data": {
      "image/png": "[encoded data removed]",
      "text/plain": [
       "<Figure size 640x480 with 1 Axes>"
      ]
     },
     "metadata": {},
     "output_type": "display_data"
    }
   ],
   "source": [
    "sns.barplot(y=\"Duration\", x=\"Genre\", data=top5genres)"
   ]
  },
  {
   "cell_type": "markdown",
   "metadata": {},
   "source": [
    "Er is een klein subtiel verband te zien tussen de duur van een nummer en zijn genre. De (dance) pop nummers hebben gemiddeld een langere duur dan bijv. een boy band nummer. Echter is er veel overlap tussen de confidence intervals van de genres dus kan er met grote zekerheid gezegd worden dat er geen significant verband is tussen de lengte van een nummer en zijn genre."
   ]
  },
  {
   "cell_type": "markdown",
   "metadata": {},
   "source": [
    "### Numerieke waarde vs Artist"
   ]
  },
  {
   "cell_type": "code",
   "execution_count": 151,
   "metadata": {},
   "outputs": [
    {
     "data": {
      "text/plain": [
       "Artist\n",
       "3OH!3                  138.000000\n",
       "5 Seconds of Summer    160.000000\n",
       "A Great Big World      138.000000\n",
       "Adam Lambert           158.500000\n",
       "Adele                  119.300000\n",
       "                          ...    \n",
       "ZAYN                   140.800000\n",
       "Zara Larsson           146.000000\n",
       "Zedd                   120.333333\n",
       "fun.                   146.000000\n",
       "will.i.am              128.000000\n",
       "Name: BPM, Length: 184, dtype: float64"
      ]
     },
     "execution_count": 151,
     "metadata": {},
     "output_type": "execute_result"
    }
   ],
   "source": [
    "songs.BPM.groupby(songs.Artist).mean()"
   ]
  },
  {
   "cell_type": "code",
   "execution_count": 149,
   "metadata": {},
   "outputs": [],
   "source": [
    "top10Artists = songs[(songs.Artist == 'Katy Perry') | (songs.Artist == 'Justin Bieber') | (songs['Artist'] == 'Rihanna') | (songs['Artist'] == 'Maroon 5') | (songs['Artist'] == 'Lady Gaga') ]\n",
    "# | (songs.Artist == 'Bruno Mars') | (songs.Artist == 'Shawn Mendes') | (songs['Artist'] == 'Pitbull') | (songs['Artist'] == 'Ed Sheeran') | (songs['Artist'] == 'The Chainsmokers')"
   ]
  },
  {
   "cell_type": "code",
   "execution_count": 5,
   "metadata": {},
   "outputs": [
    {
     "data": {
      "text/plain": [
       "Artist\n",
       "3OH!3                   1.0\n",
       "5 Seconds of Summer     0.0\n",
       "A Great Big World      87.0\n",
       "Adam Lambert            1.0\n",
       "Adele                  35.3\n",
       "                       ... \n",
       "ZAYN                   10.4\n",
       "Zara Larsson            0.0\n",
       "Zedd                   14.0\n",
       "fun.                    2.0\n",
       "will.i.am               0.0\n",
       "Name: Acousticness, Length: 184, dtype: float64"
      ]
     },
     "execution_count": 5,
     "metadata": {},
     "output_type": "execute_result"
    }
   ],
   "source": [
    "songs.Acousticness.groupby(songs.Artist).mean()\n"
   ]
  },
  {
   "cell_type": "markdown",
   "metadata": {},
   "source": []
  },
  {
   "cell_type": "code",
   "execution_count": 141,
   "metadata": {},
   "outputs": [
    {
     "data": {
      "text/plain": [
       "<AxesSubplot: xlabel='Artist', ylabel='Acousticness'>"
      ]
     },
     "execution_count": 141,
     "metadata": {},
     "output_type": "execute_result"
    },
    {
     "data": {
      "image/png": "[encoded data removed]",
      "text/plain": [
       "<Figure size 640x480 with 1 Axes>"
      ]
     },
     "metadata": {},
     "output_type": "display_data"
    }
   ],
   "source": [
    "sns.barplot(y=\"Acousticness\", x=\"Artist\", data=top10Artists)"
   ]
  },
  {
   "cell_type": "markdown",
   "metadata": {},
   "source": []
  },
  {
   "cell_type": "code",
   "execution_count": null,
   "metadata": {},
   "outputs": [],
   "source": []
  }
 ],
 "metadata": {
  "kernelspec": {
   "display_name": "Python 3 (ipykernel)",
   "language": "python",
   "name": "python3"
  },
  "language_info": {
   "codemirror_mode": {
    "name": "ipython",
    "version": 3
   },
   "file_extension": ".py",
   "mimetype": "text/x-python",
   "name": "python",
   "nbconvert_exporter": "python",
   "pygments_lexer": "ipython3",
   "version": "3.9.13"
  },
  "vscode": {
   "interpreter": {
    "hash": "369f2c481f4da34e4445cda3fffd2e751bd1c4d706f27375911949ba6bb62e1c"
   }
  }
 },
 "nbformat": 4,
 "nbformat_minor": 2
}
